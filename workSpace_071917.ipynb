{
 "cells": [
  {
   "cell_type": "code",
   "execution_count": 1,
   "metadata": {
    "collapsed": true
   },
   "outputs": [],
   "source": [
    "import gzip,os,tarfile,sys\n",
    "sys.path.append(os.pardir+'/src')\n",
    "from settings import *\n",
    "import datetime\n",
    "import traceback\n",
    "import logging\n",
    "import pandas as pd\n",
    "from pandas import DataFrame\n",
    "import xml.etree.ElementTree as et\n",
    "%matplotlib inline "
   ]
  },
  {
   "cell_type": "markdown",
   "metadata": {},
   "source": [
    "↓myCsvは以下の関数で作成"
   ]
  },
  {
   "cell_type": "code",
   "execution_count": 2,
   "metadata": {
    "collapsed": true
   },
   "outputs": [],
   "source": [
    "# ナカシマのcsvの処理。bodyが入っていて、日本語しか扱っていない。csv2に格納\n",
    "def my_convertToCSV(file_name):\n",
    "    start = datetime.datetime.now()\n",
    "\n",
    "    # 引数として渡されたtar.gzファイルを解凍し、オープン\n",
    "    f = gzip.open(os.path.join(DATA_DIR,'EID42186/original_Data',file_name), 'r')\n",
    "\n",
    "    # CSVファイルのカラムに対応する配列を初期化\n",
    "    ids = []\n",
    "    headlines = []\n",
    "    timeofarrivals = []\n",
    "    bodys = []\n",
    "    #langs = []\n",
    "\n",
    "    # xmlを解析し、rootを取得\n",
    "    tree = et.parse(f)\n",
    "    elem = tree.getroot()\n",
    "    # エラーとなった記事をカウントする変数を初期化\n",
    "    fail_cnt = 0\n",
    "\n",
    "    # 解析したxmlから、記事単位で要素を取得\n",
    "    contents = elem.getiterator('ContentT')\n",
    "\n",
    "    for content in contents:\n",
    "        try:\n",
    "            # 記事の言語情報を取得し、日本語か英語の記事であれば以降の処理を実施\n",
    "            lang = content.find(\".//LanguageString\").text\n",
    "            #if lang == 'JAPANESE' or lang == 'ENGLISH':\n",
    "            if lang == 'JAPANESE':\n",
    "                if content.find(\".//Body\").text is not ' ':\n",
    "                    # 言語、ID、タイトル、タイムスタンプを配列に格納\n",
    "                    #langs.append(lang)\n",
    "                    ids.append(content.find(\".//Id/SUID\").text)\n",
    "                    headlines.append(content.find(\".//Headline\").text)\n",
    "                    timeofarrivals.append(content.find(\".//TimeOfArrival\").text)\n",
    "                    bodys.append(content.find(\".//Body\").text)\n",
    "        except:\n",
    "            # 読み取りに失敗した場合はカウント\n",
    "            fail_cnt += 1\n",
    "            #traceback.print_exc()\n",
    "    \n",
    "    print('fail_cnt:', fail_cnt)\n",
    "    \n",
    "    # カラムに対応する配列を用いてDataFrameを作成\n",
    "    df = DataFrame({\"Id\":ids})\n",
    "    df['Headline']=headlines\n",
    "    df['Body']=bodys\n",
    "    df['TimeOfArrival']=timeofarrivals\n",
    "    df = df.drop_duplicates(['Id'])\n",
    "    # DataFrameをCSVファイルとして保存\n",
    "    df.to_csv(os.path.join(DATA_DIR,'EID42186/myCsv',file_name.replace(\".xml.gz\",\".csv\")),encoding='utf8',index=False)\n",
    "    f.close()\n",
    "\n",
    "    print('file_name:' + file_name + ' time:' + str(datetime.datetime.now()-start) + ' record_count:' + str(len(df)) + ' fail_count:' + str(fail_cnt))"
   ]
  },
  {
   "cell_type": "code",
   "execution_count": 3,
   "metadata": {
    "collapsed": true
   },
   "outputs": [],
   "source": [
    "#　全ファイル取得\n",
    "files_2014 = os.listdir(DATA_DIR+'/EID42186/myCsv/2014')\n",
    "files_2015 = os.listdir(DATA_DIR+'/EID42186/myCsv/2015')\n",
    "files_2016 = os.listdir(DATA_DIR+'/EID42186/myCsv/2016')\n",
    "# headLineのkey\n",
    "headline_key = pd.read_csv(DATA_DIR+'/EID42186/headline_key.csv',header=None).unstack().tolist()"
   ]
  },
  {
   "cell_type": "code",
   "execution_count": 4,
   "metadata": {
    "scrolled": true
   },
   "outputs": [
    {
     "data": {
      "text/plain": [
       "26306"
      ]
     },
     "execution_count": 4,
     "metadata": {},
     "output_type": "execute_result"
    }
   ],
   "source": [
    "len(headline_key)"
   ]
  },
  {
   "cell_type": "code",
   "execution_count": 5,
   "metadata": {
    "collapsed": true
   },
   "outputs": [],
   "source": [
    "df = pd.DataFrame(index=[], columns=['Id', 'Headline','Body', 'TimeOfArrival'])"
   ]
  },
  {
   "cell_type": "code",
   "execution_count": 6,
   "metadata": {
    "collapsed": true
   },
   "outputs": [],
   "source": [
    "for file in files_2014:\n",
    "    csv = pd.read_csv(os.path.join(DATA_DIR,'EID42186/myCsv/2014',file.replace(\".xml.gz\",\".csv\")))\n",
    "    df = pd.concat([df, csv], ignore_index=True)\n",
    "for file in files_2015:\n",
    "    csv = pd.read_csv(os.path.join(DATA_DIR,'EID42186/myCsv/2015',file.replace(\".xml.gz\",\".csv\")))\n",
    "    df = pd.concat([df, csv], ignore_index=True)\n",
    "for file in files_2016:\n",
    "    csv = pd.read_csv(os.path.join(DATA_DIR,'EID42186/myCsv/2016',file.replace(\".xml.gz\",\".csv\")))\n",
    "    df = pd.concat([df, csv], ignore_index=True)\n",
    "\n",
    "df = df.drop_duplicates(['Body'])"
   ]
  },
  {
   "cell_type": "code",
   "execution_count": 7,
   "metadata": {
    "collapsed": true,
    "scrolled": true
   },
   "outputs": [],
   "source": [
    "#csv = pd.read_csv(os.path.join(DATA_DIR,'EID42186/myCsv/2014',files_2014[1].replace(\".xml.gz\",\".csv\")))\n",
    "#csv.head()\n",
    "#csv.Headline in headline_key"
   ]
  },
  {
   "cell_type": "code",
   "execution_count": 8,
   "metadata": {
    "collapsed": true
   },
   "outputs": [],
   "source": [
    "df = df[df['Headline'].map(lambda x: x in headline_key)]\n",
    "#df['Headline'] = df['Headline'].apply(lambda x: x.split('：')[0].replace('*',''))\n",
    "#df = df.ix[:,['Headline','Body','Id', 'TimeOfArrival']]\n",
    "#df.columns = ['remarker', 'remark(Body)','Id', 'TimeOfArrival']\n",
    "#df.head()"
   ]
  },
  {
   "cell_type": "code",
   "execution_count": 9,
   "metadata": {},
   "outputs": [
    {
     "data": {
      "text/plain": [
       "(12351, 4)"
      ]
     },
     "execution_count": 9,
     "metadata": {},
     "output_type": "execute_result"
    }
   ],
   "source": [
    "df.shape"
   ]
  },
  {
   "cell_type": "markdown",
   "metadata": {},
   "source": [
    "↑headline_keyより少ない？？"
   ]
  },
  {
   "cell_type": "code",
   "execution_count": 10,
   "metadata": {},
   "outputs": [
    {
     "data": {
      "text/html": [
       "<div>\n",
       "<style>\n",
       "    .dataframe thead tr:only-child th {\n",
       "        text-align: right;\n",
       "    }\n",
       "\n",
       "    .dataframe thead th {\n",
       "        text-align: left;\n",
       "    }\n",
       "\n",
       "    .dataframe tbody tr th {\n",
       "        vertical-align: top;\n",
       "    }\n",
       "</style>\n",
       "<table border=\"1\" class=\"dataframe\">\n",
       "  <thead>\n",
       "    <tr style=\"text-align: right;\">\n",
       "      <th></th>\n",
       "      <th>Id</th>\n",
       "      <th>Headline</th>\n",
       "      <th>Body</th>\n",
       "      <th>TimeOfArrival</th>\n",
       "    </tr>\n",
       "  </thead>\n",
       "  <tbody>\n",
       "    <tr>\n",
       "      <th>2</th>\n",
       "      <td>MYP7ON6JIJUO</td>\n",
       "      <td>日銀：緩和２年限定せず、黒田総裁「物価２％」安定まで－読売</td>\n",
       "      <td>\\n【記者：黄恂恂】\\n　　１月１日（ブルームバーグ）：　　読売新聞が黒田東彦総裁のイン\\n...</td>\n",
       "      <td>2014-01-01T01:19:35.253+00:00</td>\n",
       "    </tr>\n",
       "    <tr>\n",
       "      <th>3</th>\n",
       "      <td>MYPCHB6TTDSP</td>\n",
       "      <td>日銀総裁：日本経済「堅実に成長」、消費増税の影響少ない－共同</td>\n",
       "      <td>\\n【記者：黄恂恂】\\n　　１月１日（ブルームバーグ）：共同通信が黒田東彦日銀総裁インタ\\n...</td>\n",
       "      <td>2014-01-01T03:03:12.005+00:00</td>\n",
       "    </tr>\n",
       "    <tr>\n",
       "      <th>5</th>\n",
       "      <td>MYQZ2W6K511O</td>\n",
       "      <td>安倍首相：ＯＥＣＤ閣僚理事会に出席、仏大統領と会談へ－朝日新聞</td>\n",
       "      <td>\\n【記者：沢和世】\\n　　１月２日（ブルームバーグ）：　　情報源は示していない。\\n&lt;ul...</td>\n",
       "      <td>2014-01-02T00:08:56.492+00:00</td>\n",
       "    </tr>\n",
       "    <tr>\n",
       "      <th>33</th>\n",
       "      <td>MYR41E6TTDS6</td>\n",
       "      <td>中国：昨年12月のＨＳＢＣ製造業ＰＭＩ改定値、50.5－前月から低下</td>\n",
       "      <td>\\n【Bloomberg News】\\n　　１月２日（ブルームバーグ）：　英ＨＳＢＣホールデ...</td>\n",
       "      <td>2014-01-02T01:56:02.272+00:00</td>\n",
       "    </tr>\n",
       "    <tr>\n",
       "      <th>34</th>\n",
       "      <td>MYNNZQ6TTDS5</td>\n",
       "      <td>中国人民銀：「適切な水準」の流動性を維持へ－四半期毎の金融政策委</td>\n",
       "      <td>\\n【Bloomberg News】\\n　　12月31日（ブルームバーグ）：　　四半期ごとに...</td>\n",
       "      <td>2013-12-31T05:16:38.480+00:00</td>\n",
       "    </tr>\n",
       "  </tbody>\n",
       "</table>\n",
       "</div>"
      ],
      "text/plain": [
       "              Id                            Headline  \\\n",
       "2   MYP7ON6JIJUO       日銀：緩和２年限定せず、黒田総裁「物価２％」安定まで－読売   \n",
       "3   MYPCHB6TTDSP      日銀総裁：日本経済「堅実に成長」、消費増税の影響少ない－共同   \n",
       "5   MYQZ2W6K511O     安倍首相：ＯＥＣＤ閣僚理事会に出席、仏大統領と会談へ－朝日新聞   \n",
       "33  MYR41E6TTDS6  中国：昨年12月のＨＳＢＣ製造業ＰＭＩ改定値、50.5－前月から低下   \n",
       "34  MYNNZQ6TTDS5    中国人民銀：「適切な水準」の流動性を維持へ－四半期毎の金融政策委   \n",
       "\n",
       "                                                 Body  \\\n",
       "2   \\n【記者：黄恂恂】\\n　　１月１日（ブルームバーグ）：　　読売新聞が黒田東彦総裁のイン\\n...   \n",
       "3   \\n【記者：黄恂恂】\\n　　１月１日（ブルームバーグ）：共同通信が黒田東彦日銀総裁インタ\\n...   \n",
       "5   \\n【記者：沢和世】\\n　　１月２日（ブルームバーグ）：　　情報源は示していない。\\n<ul...   \n",
       "33  \\n【Bloomberg News】\\n　　１月２日（ブルームバーグ）：　英ＨＳＢＣホールデ...   \n",
       "34  \\n【Bloomberg News】\\n　　12月31日（ブルームバーグ）：　　四半期ごとに...   \n",
       "\n",
       "                    TimeOfArrival  \n",
       "2   2014-01-01T01:19:35.253+00:00  \n",
       "3   2014-01-01T03:03:12.005+00:00  \n",
       "5   2014-01-02T00:08:56.492+00:00  \n",
       "33  2014-01-02T01:56:02.272+00:00  \n",
       "34  2013-12-31T05:16:38.480+00:00  "
      ]
     },
     "execution_count": 10,
     "metadata": {},
     "output_type": "execute_result"
    }
   ],
   "source": [
    "df.head()"
   ]
  },
  {
   "cell_type": "code",
   "execution_count": 11,
   "metadata": {
    "collapsed": true
   },
   "outputs": [],
   "source": [
    "df.to_csv('../data/EID42186/nak_task2_data.csv',encoding='utf8',header=True,index=False)"
   ]
  }
 ],
 "metadata": {
  "kernelspec": {
   "display_name": "Python 3",
   "language": "python",
   "name": "python3"
  },
  "language_info": {
   "codemirror_mode": {
    "name": "ipython",
    "version": 3
   },
   "file_extension": ".py",
   "mimetype": "text/x-python",
   "name": "python",
   "nbconvert_exporter": "python",
   "pygments_lexer": "ipython3",
   "version": "3.6.1"
  }
 },
 "nbformat": 4,
 "nbformat_minor": 2
}
