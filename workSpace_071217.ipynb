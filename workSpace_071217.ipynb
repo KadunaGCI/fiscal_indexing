{
 "cells": [
  {
   "cell_type": "code",
   "execution_count": 1,
   "metadata": {
    "collapsed": true
   },
   "outputs": [],
   "source": [
    "import gzip,os,tarfile,sys\n",
    "sys.path.append(os.pardir+'/src')\n",
    "from settings import *\n",
    "from boto3.session import Session\n",
    "import datetime\n",
    "import traceback\n",
    "import logging\n",
    "import pandas as pd\n",
    "from pandas import DataFrame\n",
    "import xml.etree.ElementTree as et\n",
    "%matplotlib inline "
   ]
  },
  {
   "cell_type": "code",
   "execution_count": 2,
   "metadata": {
    "collapsed": true,
    "scrolled": true
   },
   "outputs": [],
   "source": [
    "#　全ファイル取得\n",
    "files_2014 = os.listdir(DATA_DIR+'/EID42186/myCsv/2014')\n",
    "files_2015 = os.listdir(DATA_DIR+'/EID42186/myCsv/2015')\n",
    "files_2016 = os.listdir(DATA_DIR+'/EID42186/myCsv/2016')"
   ]
  },
  {
   "cell_type": "code",
   "execution_count": 4,
   "metadata": {
    "collapsed": true
   },
   "outputs": [],
   "source": [
    "remarkers = []\n",
    "for file in files_2014:\n",
    "    csv = pd.read_csv(os.path.join(DATA_DIR,'EID42186/myCsv/2014',file.replace(\".xml.gz\",\".csv\"))).drop(['Id', 'TimeOfArrival','Body'],axis=1)\n",
    "    for headline in csv['Headline']:\n",
    "        if(len(headline.split('：')) > 1):\n",
    "            remarkers.append(headline.split('：')[0].replace('*',''))\n",
    "for file in files_2015:\n",
    "    csv = pd.read_csv(os.path.join(DATA_DIR,'EID42186/myCsv/2015',file.replace(\".xml.gz\",\".csv\"))).drop(['Id', 'TimeOfArrival','Body'],axis=1)\n",
    "    for headline in csv['Headline']:\n",
    "        if(len(headline.split('：')) > 1):\n",
    "            remarkers.append(headline.split('：')[0].replace('*',''))\n",
    "for file in files_2016:\n",
    "    csv = pd.read_csv(os.path.join(DATA_DIR,'EID42186/myCsv/2016',file.replace(\".xml.gz\",\".csv\"))).drop(['Id', 'TimeOfArrival','Body'],axis=1)\n",
    "    for headline in csv['Headline']:\n",
    "        if(len(headline.split('：')) > 1):\n",
    "            remarkers.append(headline.split('：')[0].replace('*',''))"
   ]
  },
  {
   "cell_type": "code",
   "execution_count": 5,
   "metadata": {},
   "outputs": [
    {
     "data": {
      "text/plain": [
       "125829"
      ]
     },
     "execution_count": 5,
     "metadata": {},
     "output_type": "execute_result"
    }
   ],
   "source": [
    "len(remarkers)"
   ]
  },
  {
   "cell_type": "code",
   "execution_count": 19,
   "metadata": {},
   "outputs": [
    {
     "name": "stdout",
     "output_type": "stream",
     "text": [
      "(125829, 10022)\n"
     ]
    }
   ],
   "source": [
    "from sklearn.feature_extraction.text import CountVectorizer\n",
    "vectorizer = CountVectorizer().fit(remarkers) # stop_words = ''\n",
    "bow = vectorizer.transform(remarkers)\n",
    "print(bow.get_shape())"
   ]
  },
  {
   "cell_type": "code",
   "execution_count": 20,
   "metadata": {
    "collapsed": true
   },
   "outputs": [],
   "source": [
    "# 綺麗に書き換えられるはず\n",
    "freqs = [(word, bow.getcol(idx).sum()) for word, idx in vectorizer.vocabulary_.items()]\n",
    "order = sorted(freqs, key = lambda x: -x[1]) # tapleのlist\n",
    "terms = []\n",
    "nums = []\n",
    "for a, b in order:\n",
    "    terms.append(a)\n",
    "    nums.append(b)"
   ]
  },
  {
   "cell_type": "code",
   "execution_count": 21,
   "metadata": {},
   "outputs": [
    {
     "data": {
      "text/plain": [
       "<matplotlib.axes._subplots.AxesSubplot at 0x7f0bff1b9748>"
      ]
     },
     "execution_count": 21,
     "metadata": {},
     "output_type": "execute_result"
    },
    {
     "data": {
      "image/png": "[encoded data removed]",
      "text/plain": [
       "<matplotlib.figure.Figure at 0x7f0bff1eed30>"
      ]
     },
     "metadata": {},
     "output_type": "display_data"
    }
   ],
   "source": [
    "import seaborn as sns\n",
    "sns.distplot(nums[0:50], kde=False, rug=False, bins=10) "
   ]
  },
  {
   "cell_type": "code",
   "execution_count": 22,
   "metadata": {},
   "outputs": [
    {
     "data": {
      "text/plain": [
       "<matplotlib.axes._subplots.AxesSubplot at 0x7f0c02398e10>"
      ]
     },
     "execution_count": 22,
     "metadata": {},
     "output_type": "execute_result"
    },
    {
     "data": {
      "image/png": "[encoded data removed]",
      "text/plain": [
       "<matplotlib.figure.Figure at 0x7f0c0243c048>"
      ]
     },
     "metadata": {},
     "output_type": "display_data"
    }
   ],
   "source": [
    "sns.distplot([x for x in nums if x < 50], kde=False, rug=False, bins=10) "
   ]
  },
  {
   "cell_type": "code",
   "execution_count": 102,
   "metadata": {
    "scrolled": true
   },
   "outputs": [
    {
     "data": {
      "text/plain": [
       "399"
      ]
     },
     "execution_count": 102,
     "metadata": {},
     "output_type": "execute_result"
    }
   ],
   "source": [
    "#ここまで\n",
    "len([x for x in nums if x > 50])"
   ]
  },
  {
   "cell_type": "markdown",
   "metadata": {},
   "source": [
    "上記の値までvalidationに0,1を降る。それ以降は全て0。"
   ]
  },
  {
   "cell_type": "code",
   "execution_count": 99,
   "metadata": {
    "collapsed": true
   },
   "outputs": [],
   "source": [
    "# 上書きしないように\n",
    "\n",
    "#import csv\n",
    "#f=open('../data/EID42186/remakers.csv','w')\n",
    "#f.write('remarkers,validation,num of remarks\\n')\n",
    "#for x in terms:\n",
    "#    f.write(x+',\\n')\n",
    "#f.close()"
   ]
  },
  {
   "cell_type": "code",
   "execution_count": 68,
   "metadata": {
    "scrolled": true
   },
   "outputs": [
    {
     "data": {
      "text/plain": [
       "125829"
      ]
     },
     "execution_count": 68,
     "metadata": {},
     "output_type": "execute_result"
    }
   ],
   "source": [
    "len(remarkers)"
   ]
  },
  {
   "cell_type": "code",
   "execution_count": 96,
   "metadata": {
    "collapsed": true
   },
   "outputs": [],
   "source": [
    "hoge=pd.read_csv('../data/EID42186/remakers.csv')"
   ]
  },
  {
   "cell_type": "code",
   "execution_count": 97,
   "metadata": {
    "collapsed": true
   },
   "outputs": [],
   "source": [
    "hoge['num of remarks'] = nums "
   ]
  },
  {
   "cell_type": "code",
   "execution_count": 93,
   "metadata": {},
   "outputs": [
    {
     "data": {
      "text/plain": [
       "<matplotlib.text.Text at 0x7f0bf65d36d8>"
      ]
     },
     "execution_count": 93,
     "metadata": {},
     "output_type": "execute_result"
    },
    {
     "data": {
      "image/png": "[encoded data removed]",
      "text/plain": [
       "<matplotlib.figure.Figure at 0x7f0bf66b1eb8>"
      ]
     },
     "metadata": {},
     "output_type": "display_data"
    }
   ],
   "source": [
    "import matplotlib\n",
    "import matplotlib.pyplot as plt\n",
    "from matplotlib.font_manager import FontProperties\n",
    "fig = plt.figure(figsize=(17,3))\n",
    "ax = fig.add_subplot(1,1,1)\n",
    "\n",
    "\n",
    "numOfRemarker=50\n",
    "\n",
    "ax.set_xticklabels(hoge[hoge['validation']==1][:numOfRemarker]['remarkers'], rotation = 90)\n",
    "\n",
    "font_path = '/usr/share/fonts/truetype/takao-gothic/TakaoPGothic.ttf'\n",
    "font_prop = FontProperties(fname=font_path)\n",
    "matplotlib.rcParams['font.family'] = font_prop.get_name()\n",
    "sns.barplot(x=hoge[hoge['validation']==1][:numOfRemarker]['remarkers'], y=hoge[hoge['validation']==1][:numOfRemarker]['num of remarks'])\n",
    "\n",
    "plt.title('発言回数トップ40(だいたい)')\n",
    "plt.xlabel=('remarkers')\n",
    "plt.ylabel('Num of remarks')"
   ]
  },
  {
   "cell_type": "markdown",
   "metadata": {},
   "source": [
    "# Problem : エイリアスが存在。人がheadlineにないニュースを（10年歳入札結果など）とっていない。翻訳記事の内容が原文へのリンクだけ→dropduplicatesの際の問題かも"
   ]
  },
  {
   "cell_type": "code",
   "execution_count": null,
   "metadata": {
    "collapsed": true
   },
   "outputs": [],
   "source": [
    "# 以下#発言者、発言内容、記事ID、タイムスタンプのデータの作成"
   ]
  },
  {
   "cell_type": "markdown",
   "metadata": {},
   "source": [
    "現状、発言内容はBodyその作成まま"
   ]
  },
  {
   "cell_type": "code",
   "execution_count": 103,
   "metadata": {
    "collapsed": true
   },
   "outputs": [],
   "source": []
  },
  {
   "cell_type": "code",
   "execution_count": 169,
   "metadata": {
    "collapsed": true,
    "scrolled": true
   },
   "outputs": [],
   "source": [
    "#df = pd.DataFrame(index=[], columns=['remarker', 'remark(Body)','Id', 'TimeStamp'])\n",
    "df = pd.DataFrame(index=[], columns=['Id', 'Headline','Body', 'TimeOfArrival'])"
   ]
  },
  {
   "cell_type": "code",
   "execution_count": 170,
   "metadata": {
    "collapsed": true
   },
   "outputs": [],
   "source": [
    "for file in files_2014:\n",
    "    csv = pd.read_csv(os.path.join(DATA_DIR,'EID42186/myCsv/2014',file.replace(\".xml.gz\",\".csv\")))\n",
    "    df = pd.concat([df, csv], ignore_index=True)\n",
    "for file in files_2015:\n",
    "    csv = pd.read_csv(os.path.join(DATA_DIR,'EID42186/myCsv/2015',file.replace(\".xml.gz\",\".csv\")))\n",
    "    df = pd.concat([df, csv], ignore_index=True)\n",
    "for file in files_2016:\n",
    "    csv = pd.read_csv(os.path.join(DATA_DIR,'EID42186/myCsv/2016',file.replace(\".xml.gz\",\".csv\")))\n",
    "    df = pd.concat([df, csv], ignore_index=True)"
   ]
  },
  {
   "cell_type": "code",
   "execution_count": 180,
   "metadata": {
    "scrolled": true
   },
   "outputs": [
    {
     "name": "stderr",
     "output_type": "stream",
     "text": [
      "/home/yutaro/anaconda3/lib/python3.6/site-packages/ipykernel_launcher.py:2: DeprecationWarning: \n",
      ".ix is deprecated. Please use\n",
      ".loc for label based indexing or\n",
      ".iloc for positional indexing\n",
      "\n",
      "See the documentation here:\n",
      "http://pandas.pydata.org/pandas-docs/stable/indexing.html#deprecate_ix\n",
      "  \n"
     ]
    },
    {
     "data": {
      "text/html": [
       "<div>\n",
       "<style>\n",
       "    .dataframe thead tr:only-child th {\n",
       "        text-align: right;\n",
       "    }\n",
       "\n",
       "    .dataframe thead th {\n",
       "        text-align: left;\n",
       "    }\n",
       "\n",
       "    .dataframe tbody tr th {\n",
       "        vertical-align: top;\n",
       "    }\n",
       "</style>\n",
       "<table border=\"1\" class=\"dataframe\">\n",
       "  <thead>\n",
       "    <tr style=\"text-align: right;\">\n",
       "      <th></th>\n",
       "      <th>remarker</th>\n",
       "      <th>remark(Body)</th>\n",
       "      <th>Id</th>\n",
       "      <th>TimeOfArrival</th>\n",
       "    </tr>\n",
       "  </thead>\n",
       "  <tbody>\n",
       "    <tr>\n",
       "      <th>22</th>\n",
       "      <td>テンプＨＤ</td>\n",
       "      <td>--NORIKO TSUTSUMI\\r\\n\\r\\n-0- Nov/06/2014 00:13...</td>\n",
       "      <td>NELCLX6K50YQ</td>\n",
       "      <td>2014-11-06T00:13:09.113+00:00</td>\n",
       "    </tr>\n",
       "    <tr>\n",
       "      <th>33</th>\n",
       "      <td>Ｓ＆Ｐ</td>\n",
       "      <td>\\r\\n【記者：Cara Moffat】\\r\\n　　11月５日（ブルームバーグ）：　　Ｓ＆Ｐ...</td>\n",
       "      <td>NELD116K50YV</td>\n",
       "      <td>2014-11-06T00:22:13.131+00:00</td>\n",
       "    </tr>\n",
       "    <tr>\n",
       "      <th>34</th>\n",
       "      <td>テンプＨＤ</td>\n",
       "      <td>\\r\\n【記者：山村敬一】\\r\\n　　11月６日（ブルームバーグ）：　　進めているが現時点で...</td>\n",
       "      <td>NELD1R6K513H</td>\n",
       "      <td>2014-11-06T00:22:39.569+00:00</td>\n",
       "    </tr>\n",
       "    <tr>\n",
       "      <th>39</th>\n",
       "      <td>短期市場見通し</td>\n",
       "      <td>\\r\\n【記者：船曳三郎】\\r\\n　　11月６日（ブルームバーグ）：　追加緩和後の短国オペ動...</td>\n",
       "      <td>NEL88M6K50Y5</td>\n",
       "      <td>2014-11-05T22:38:46.613+00:00</td>\n",
       "    </tr>\n",
       "    <tr>\n",
       "      <th>42</th>\n",
       "      <td>バーナンキ氏</td>\n",
       "      <td>\\r\\n【記者：Colin Keatinge】\\r\\n　　11月６日（ブルームバーグ）：\\r...</td>\n",
       "      <td>NELDQA6K50YI</td>\n",
       "      <td>2014-11-06T00:37:22.761+00:00</td>\n",
       "    </tr>\n",
       "  </tbody>\n",
       "</table>\n",
       "</div>"
      ],
      "text/plain": [
       "   remarker                                       remark(Body)            Id  \\\n",
       "22    テンプＨＤ  --NORIKO TSUTSUMI\\r\\n\\r\\n-0- Nov/06/2014 00:13...  NELCLX6K50YQ   \n",
       "33      Ｓ＆Ｐ  \\r\\n【記者：Cara Moffat】\\r\\n　　11月５日（ブルームバーグ）：　　Ｓ＆Ｐ...  NELD116K50YV   \n",
       "34    テンプＨＤ  \\r\\n【記者：山村敬一】\\r\\n　　11月６日（ブルームバーグ）：　　進めているが現時点で...  NELD1R6K513H   \n",
       "39  短期市場見通し  \\r\\n【記者：船曳三郎】\\r\\n　　11月６日（ブルームバーグ）：　追加緩和後の短国オペ動...  NEL88M6K50Y5   \n",
       "42   バーナンキ氏  \\r\\n【記者：Colin Keatinge】\\r\\n　　11月６日（ブルームバーグ）：\\r...  NELDQA6K50YI   \n",
       "\n",
       "                    TimeOfArrival  \n",
       "22  2014-11-06T00:13:09.113+00:00  \n",
       "33  2014-11-06T00:22:13.131+00:00  \n",
       "34  2014-11-06T00:22:39.569+00:00  \n",
       "39  2014-11-05T22:38:46.613+00:00  \n",
       "42  2014-11-06T00:37:22.761+00:00  "
      ]
     },
     "execution_count": 180,
     "metadata": {},
     "output_type": "execute_result"
    }
   ],
   "source": [
    "df = df[df['Headline'].map(lambda x: len(x.split('：'))>1)]\n",
    "df['Headline'] = df['Headline'].apply(lambda x: x.split('：')[0].replace('*',''))\n",
    "df = df.ix[:,['Headline','Body','Id', 'TimeOfArrival']]\n",
    "df.columns = ['remarker', 'remark(Body)','Id', 'TimeOfArrival']\n",
    "df.head()"
   ]
  },
  {
   "cell_type": "code",
   "execution_count": 181,
   "metadata": {
    "collapsed": true
   },
   "outputs": [],
   "source": [
    "df.to_csv('../data/EID42186/nak_task1_data.csv',encoding='utf8',header=True,index=False)"
   ]
  },
  {
   "cell_type": "code",
   "execution_count": null,
   "metadata": {
    "collapsed": true
   },
   "outputs": [],
   "source": []
  }
 ],
 "metadata": {
  "kernelspec": {
   "display_name": "Python 3",
   "language": "python",
   "name": "python3"
  },
  "language_info": {
   "codemirror_mode": {
    "name": "ipython",
    "version": 3
   },
   "file_extension": ".py",
   "mimetype": "text/x-python",
   "name": "python",
   "nbconvert_exporter": "python",
   "pygments_lexer": "ipython3",
   "version": "3.6.1"
  }
 },
 "nbformat": 4,
 "nbformat_minor": 2
}
