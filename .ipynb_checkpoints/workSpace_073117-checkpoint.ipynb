{
 "cells": [
  {
   "cell_type": "markdown",
   "metadata": {},
   "source": [
    "記事ID,ヘッドライン,本文,年月日,時間,増税の出現回数,減税の出現回数,\"全単語数（重複あり）\",\"全単語数（重複無し）\",文の数のcsvを作成。"
   ]
  },
  {
   "cell_type": "code",
   "execution_count": null,
   "metadata": {},
   "outputs": [],
   "source": [
    "import gzip,os,tarfile,sys\n",
    "sys.path.append(os.pardir+'/src')\n",
    "from settings import *\n",
    "import pandas as pd\n",
    "from pandas import DataFrame\n",
    "import time\n",
    "from janome.tokenizer import Tokenizer\n",
    "from sklearn.feature_extraction.text import CountVectorizer\n",
    "import numpy as np\n",
    "import time\n",
    "%matplotlib inline "
   ]
  },
  {
   "cell_type": "code",
   "execution_count": null,
   "metadata": {
    "collapsed": true
   },
   "outputs": [],
   "source": [
    "#　かなりの改良の余地あり\n",
    "def cleanBody(x):\n",
    "    try:\n",
    "        hoge = x.split('（ブルームバーグ）：')\n",
    "        if len(hoge)>1:\n",
    "            temp = ''\n",
    "            for i in range(1,len(hoge)):\n",
    "                temp += hoge[i]\n",
    "            y1 = temp\n",
    "        else :\n",
    "            y1 = x\n",
    "    \n",
    "        hoge = y1.split('(ブルームバーグ) -- ')\n",
    "        if len(hoge)>1:\n",
    "            temp = ''\n",
    "            for i in range(1,len(hoge)):\n",
    "                temp += hoge[i]\n",
    "            y2 = temp\n",
    "        else :\n",
    "            y2 = y1\n",
    "    \n",
    "        hoge = y2.split('関連ニュースと情報：')\n",
    "        if len(hoge)>1:\n",
    "            temp = ''\n",
    "            for i in range(0,len(hoge)-1):\n",
    "                temp += hoge[i]\n",
    "            y3 = temp\n",
    "        else :\n",
    "            y3 = y2\n",
    "        \n",
    "            hoge = y3.split('原題：')\n",
    "        if len(hoge)>1:\n",
    "            temp = ''\n",
    "            for i in range(0,len(hoge)-1):\n",
    "                temp += hoge[i]\n",
    "            y4 = temp\n",
    "        else :\n",
    "            y4 = y3\n",
    "        \n",
    "    \n",
    "            hoge = y3.split('参考画面：')\n",
    "        if len(hoge)>1:\n",
    "            temp = ''\n",
    "            for i in range(0,len(hoge)-1):\n",
    "                temp += hoge[i]\n",
    "            y5 = temp\n",
    "        else :\n",
    "            y5 = y4\n",
    "        \n",
    "    \n",
    "        y5 = y5.replace('\\n', '')\n",
    "        y5 = y5.replace(' ', '')\n",
    "        y=y5\n",
    "       \n",
    "        return y\n",
    "\n",
    "    except: \n",
    "        print(x)\n",
    "        return x\n",
    "    "
   ]
  },
  {
   "cell_type": "code",
   "execution_count": null,
   "metadata": {},
   "outputs": [],
   "source": [
    "# need to recieve unicode text\n",
    "def myTokenizer(text):\n",
    "    TARGET_CATEGORY = [\"名詞\", \"動詞\",  \"形容詞\", \"副詞\"]\n",
    "    wordsIn=[]\n",
    "    t = Tokenizer()\n",
    "    tokens = t.tokenize(text)\n",
    "    for token in tokens:\n",
    "        tokenCategory = token.part_of_speech.split(',')[0]\n",
    "        tokenBasic = token.base_form\n",
    "        if  (tokenCategory=='名詞' and token.part_of_speech.split(',')[1]=='固有名詞'):\n",
    "            wordsIn.append(token.surface)\n",
    "        elif tokenCategory in TARGET_CATEGORY:\n",
    "            if tokenBasic != '*':                               #if basic form can be defined\n",
    "                wordsIn.append(tokenBasic)\n",
    "    return wordsIn\n"
   ]
  },
  {
   "cell_type": "code",
   "execution_count": null,
   "metadata": {},
   "outputs": [],
   "source": [
    "# global変数\n",
    "FOR_UNIQUE = []\n",
    "def myCounter(x):\n",
    "    global FOR_UNIQUE\n",
    "    try:\n",
    "        vectorizer = CountVectorizer(tokenizer=myTokenizer)\n",
    "        bow_sparse = vectorizer.fit_transform(x)\n",
    "        bow = bow_sparse.todense()\n",
    "        FOR_UNIQUE.append(bow.shape[1])\n",
    "        return np.sum(bow_sparse)\n",
    "    except:\n",
    "        #print('えらー')\n",
    "        #print(x[0])\n",
    "        #raise Exception\n",
    "        FOR_UNIQUE.append(-1)\n",
    "        return -1            # なぞのエラー発生？ \n",
    "    \n",
    "def getFOR_UNIQUE():\n",
    "    return FOR_UNIQUE\n",
    "\n",
    "def clearFOR_UNIQUE():\n",
    "    FOR_UNIQUE.clear()"
   ]
  },
  {
   "cell_type": "code",
   "execution_count": null,
   "metadata": {
    "collapsed": true
   },
   "outputs": [],
   "source": [
    "#　全ファイル取得\n",
    "files_2014 = os.listdir(DATA_DIR+'/EID34151/myCsv/2014')\n",
    "files_2015 = os.listdir(DATA_DIR+'/EID34151/myCsv/2015')\n",
    "files_2016 = os.listdir(DATA_DIR+'/EID34151/myCsv/2016')\n",
    "files_2017 = os.listdir(DATA_DIR+'/EID34151/myCsv/2017')\n",
    "\n",
    "files = [files_2014, files_2015, files_2016,files_2017]"
   ]
  },
  {
   "cell_type": "code",
   "execution_count": null,
   "metadata": {},
   "outputs": [],
   "source": [
    "#　本体\n",
    "for year in files:\n",
    "    for file in year:\n",
    "        try:\n",
    "            df = pd.read_csv(os.path.join(DATA_DIR,'EID34151/myCsv/',file[9:13],file.replace(\".xml.gz\",\".csv\")))\n",
    "            df = df.drop_duplicates(['Body'])\n",
    "            df = df.fillna('') \n",
    "            df.Body = df['Body'].apply(lambda x: cleanBody(x))\n",
    "        \n",
    "            start = time.time()\n",
    "\n",
    "            df['NumOfTaxReduction'] = df['Body'].apply(lambda x: len(x.split('減税'))-1)\n",
    "            df['NumOfTaxIncrease'] = df['Body'].apply(lambda x: len(x.split('増税'))-1)\n",
    "            # 以下エラーが発生するときは-1\n",
    "            # janomeのせい。mecab使えば対処できるかも\n",
    "            df['NumOfWords'] = df['Body'].apply(lambda x: myCounter([x]))\n",
    "            df['NumOfWords_Uni'] = pd.Series(getFOR_UNIQUE())\n",
    "            df['NumOfSentences'] = df['Body'].apply(lambda x: len(x.split('。'))-1)\n",
    "\n",
    "            df.to_csv(os.path.join(DATA_DIR,'EID34151/',file.replace(\".xml.gz\",\".csv\")),encoding='utf8',header=True,index=False)       \n",
    "            clearFOR_UNIQUE()\n",
    "            \n",
    "            print(file,' took ', time.time() - start)\n",
    "        \n",
    "        except:\n",
    "            print(file, 'error')\n"
   ]
  },
  {
   "cell_type": "code",
   "execution_count": null,
   "metadata": {
    "collapsed": true
   },
   "outputs": [],
   "source": []
  }
 ],
 "metadata": {
  "kernelspec": {
   "display_name": "Python 3",
   "language": "python",
   "name": "python3"
  },
  "language_info": {
   "codemirror_mode": {
    "name": "ipython",
    "version": 3
   },
   "file_extension": ".py",
   "mimetype": "text/x-python",
   "name": "python",
   "nbconvert_exporter": "python",
   "pygments_lexer": "ipython3",
   "version": "3.6.1"
  }
 },
 "nbformat": 4,
 "nbformat_minor": 2
}
