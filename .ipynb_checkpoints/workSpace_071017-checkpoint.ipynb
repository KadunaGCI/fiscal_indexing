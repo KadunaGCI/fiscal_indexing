{
 "cells": [
  {
   "cell_type": "code",
   "execution_count": 1,
   "metadata": {
    "collapsed": true
   },
   "outputs": [],
   "source": [
    "import gzip,os,tarfile,sys\n",
    "sys.path.append(os.pardir+'/src')\n",
    "from settings import *\n",
    "from boto3.session import Session\n",
    "import datetime\n",
    "import traceback\n",
    "import logging\n",
    "import pandas as pd\n",
    "from pandas import DataFrame\n",
    "import xml.etree.ElementTree as et"
   ]
  },
  {
   "cell_type": "code",
   "execution_count": 2,
   "metadata": {
    "collapsed": true
   },
   "outputs": [],
   "source": [
    "# S3から記事データをダウンロードする関数\n",
    "def downloadFile(bucket, tag, target_day):\n",
    "    # バケットから指定されたタグと日付に該当するオブジェクトを取得\n",
    "    objects = bucket.objects.all().filter(Prefix=tag+target_day)\n",
    "\n",
    "    for object in objects:\n",
    "        # データを格納するパスを生成\n",
    "        path = os.path.join(DATA_DIR,tag+target_day)\n",
    "        # ダウンロードを実施\n",
    "        bucket.download_file(object.key, path)\n",
    "\n",
    "# startで指定された日付からspan日分のファイル名配列を生成\n",
    "def makeDateList(start, span):\n",
    "    dateList = []\n",
    "\n",
    "    for i in range(int(span)):\n",
    "        dateList.append('EID42168_' + start.strftime(\"%Y%m%d\") + '.xml.gz')\n",
    "        start = start + datetime.timedelta(days=1)\n",
    "\n",
    "    return dateList"
   ]
  },
  {
   "cell_type": "code",
   "execution_count": 3,
   "metadata": {
    "scrolled": true
   },
   "outputs": [
    {
     "name": "stdout",
     "output_type": "stream",
     "text": [
      "20140101.xml.gz was done 0:00:02.174124\n",
      "20140102.xml.gz was done 0:00:01.260072\n",
      "20140103.xml.gz was done 0:00:00.783045\n",
      "20140104.xml.gz was done 0:00:00.164009\n",
      "20140105.xml.gz was done 0:00:00.284016\n",
      "20140106.xml.gz was done 0:00:01.041060\n",
      "20140107.xml.gz was done 0:00:01.006058\n",
      "20140108.xml.gz was done 0:00:00.949054\n",
      "20140109.xml.gz was done 0:00:01.042059\n",
      "20140110.xml.gz was done 0:00:00.918053\n",
      "20140111.xml.gz was done 0:00:00.194011\n",
      "20140112.xml.gz was done 0:00:00.337019\n",
      "20140113.xml.gz was done 0:00:01.135065\n",
      "20140114.xml.gz was done 0:00:00.953055\n",
      "20140115.xml.gz was done 0:00:01.257072\n",
      "20140116.xml.gz was done 0:00:01.062060\n",
      "20140117.xml.gz was done 0:00:01.138066\n",
      "20140118.xml.gz was done 0:00:00.363020\n",
      "20140119.xml.gz was done 0:00:00.330019\n",
      "20140120.xml.gz was done 0:00:00.858049\n",
      "20140121.xml.gz was done 0:00:01.126065\n",
      "20140122.xml.gz was done 0:00:01.047060\n",
      "20140123.xml.gz was done 0:00:01.490085\n",
      "20140124.xml.gz was done 0:00:01.051060\n",
      "20140125.xml.gz was done 0:00:00.195011\n",
      "20140126.xml.gz was done 0:00:00.313018\n",
      "20140127.xml.gz was done 0:00:01.688097\n",
      "20140128.xml.gz was done 0:00:01.236070\n",
      "20140129.xml.gz was done 0:00:01.066061\n",
      "20140130.xml.gz was done 0:00:00.994057\n",
      "20140131.xml.gz was done 0:00:00.715041\n",
      "20140201.xml.gz was done 0:00:00.204012\n",
      "20140202.xml.gz was done 0:00:00.325018\n",
      "20140203.xml.gz was done 0:00:01.264073\n",
      "20140204.xml.gz was done 0:00:00.939053\n",
      "20140205.xml.gz was done 0:00:01.106064\n",
      "20140206.xml.gz was done 0:00:01.047060\n",
      "20140207.xml.gz was done 0:00:01.004057\n",
      "20140208.xml.gz was done 0:00:00.214012\n",
      "20140209.xml.gz was done 0:00:00.408024\n",
      "20140210.xml.gz was done 0:00:01.463083\n",
      "20140211.xml.gz was done 0:00:01.233071\n",
      "20140212.xml.gz was done 0:00:01.222070\n",
      "20140213.xml.gz was done 0:00:01.151066\n",
      "20140214.xml.gz was done 0:00:00.919052\n",
      "20140215.xml.gz was done 0:00:00.159009\n",
      "20140216.xml.gz was done 0:00:00.310018\n",
      "20140217.xml.gz was done 0:00:00.958055\n",
      "20140218.xml.gz was done 0:00:01.142065\n",
      "20140219.xml.gz was done 0:00:01.388079\n",
      "20140220.xml.gz was done 0:00:01.227071\n",
      "20140221.xml.gz was done 0:00:00.941053\n",
      "20140222.xml.gz was done 0:00:00.441026\n",
      "20140223.xml.gz was done 0:00:00.340019\n",
      "20140224.xml.gz was done 0:00:01.194068\n",
      "20140225.xml.gz was done 0:00:01.291074\n",
      "20140226.xml.gz was done 0:00:01.205069\n",
      "20140227.xml.gz was done 0:00:01.238071\n",
      "20140228.xml.gz was done 0:00:01.480085\n",
      "20140301.xml.gz was done 0:00:00.193011\n",
      "20140302.xml.gz was done 0:00:00.297017\n",
      "20140303.xml.gz was done 0:00:01.169067\n",
      "20140304.xml.gz was done 0:00:01.133064\n",
      "20140305.xml.gz was done 0:00:01.159067\n",
      "20140306.xml.gz was done 0:00:01.114063\n",
      "20140307.xml.gz was done 0:00:00.966056\n",
      "20140308.xml.gz was done 0:00:00.219012\n",
      "20140309.xml.gz was done 0:00:00.339020\n",
      "20140310.xml.gz was done 0:00:01.214069\n",
      "20140311.xml.gz was done 0:00:01.125064\n",
      "20140312.xml.gz was done 0:00:01.398080\n",
      "20140313.xml.gz was done 0:00:01.213070\n",
      "20140314.xml.gz was done 0:00:00.934053\n",
      "20140315.xml.gz was done 0:00:00.184011\n",
      "20140316.xml.gz was done 0:00:00.369021\n",
      "20140317.xml.gz was done 0:00:01.122064\n",
      "20140318.xml.gz was done 0:00:01.508087\n",
      "20140319.xml.gz was done 0:00:01.151065\n",
      "20140320.xml.gz was done 0:00:01.198069\n",
      "20140321.xml.gz was done 0:00:00.920053\n",
      "20140322.xml.gz was done 0:00:00.220012\n",
      "20140323.xml.gz was done 0:00:00.303018\n",
      "20140324.xml.gz was done 0:00:01.079061\n",
      "20140325.xml.gz was done 0:00:01.161067\n",
      "20140326.xml.gz was done 0:00:01.162066\n",
      "20140327.xml.gz was done 0:00:01.346077\n",
      "20140328.xml.gz was done 0:00:01.120064\n",
      "20140329.xml.gz was done 0:00:00.180011\n",
      "20140330.xml.gz was done 0:00:00.366021\n",
      "20140331.xml.gz was done 0:00:01.495085\n",
      "20140401.xml.gz was done 0:00:01.207069\n",
      "20140402.xml.gz was done 0:00:01.295074\n",
      "20140403.xml.gz was done 0:00:01.120064\n",
      "20140404.xml.gz was done 0:00:01.928111\n",
      "20140405.xml.gz was done 0:00:00.153008\n",
      "20140406.xml.gz was done 0:00:00.282017\n",
      "20140407.xml.gz was done 0:00:01.244071\n",
      "20140408.xml.gz was done 0:00:01.107063\n",
      "20140409.xml.gz was done 0:00:01.562089\n",
      "20140410.xml.gz was done 0:00:01.370079\n",
      "20140411.xml.gz was done 0:00:01.089062\n",
      "20140412.xml.gz was done 0:00:00.194011\n",
      "20140413.xml.gz was done 0:00:00.345020\n",
      "20140414.xml.gz was done 0:00:01.038059\n",
      "20140415.xml.gz was done 0:00:01.321076\n",
      "20140416.xml.gz was done 0:00:01.051060\n",
      "20140417.xml.gz was done 0:00:01.168067\n",
      "20140418.xml.gz was done 0:00:00.378022\n",
      "20140419.xml.gz was done 0:00:00.180010\n",
      "20140420.xml.gz was done 0:00:00.339019\n",
      "20140421.xml.gz was done 0:00:00.826047\n",
      "20140422.xml.gz was done 0:00:01.257072\n",
      "20140423.xml.gz was done 0:00:01.299075\n",
      "20140424.xml.gz was done 0:00:01.186068\n",
      "20140425.xml.gz was done 0:00:01.307074\n",
      "20140426.xml.gz was done 0:00:00.231014\n",
      "20140427.xml.gz was done 0:00:00.445025\n",
      "20140428.xml.gz was done 0:00:01.697097\n",
      "20140429.xml.gz was done 0:00:01.600092\n",
      "20140430.xml.gz was done 0:00:01.220069\n",
      "20140501.xml.gz was done 0:00:00.904052\n",
      "20140502.xml.gz was done 0:00:00.972056\n",
      "20140503.xml.gz was done 0:00:00.170009\n",
      "20140504.xml.gz was done 0:00:00.249015\n",
      "20140505.xml.gz was done 0:00:00.912052\n",
      "20140506.xml.gz was done 0:00:01.271073\n",
      "20140507.xml.gz was done 0:00:02.208126\n",
      "20140508.xml.gz was done 0:00:01.908109\n",
      "20140509.xml.gz was done 0:00:01.017058\n",
      "20140510.xml.gz was done 0:00:00.175010\n",
      "20140511.xml.gz was done 0:00:00.372022\n",
      "20140512.xml.gz was done 0:00:01.441082\n",
      "20140513.xml.gz was done 0:00:01.146066\n",
      "20140514.xml.gz was done 0:00:02.112120\n",
      "20140515.xml.gz was done 0:00:01.599092\n",
      "20140516.xml.gz was done 0:00:01.182068\n",
      "20140517.xml.gz was done 0:00:00.158009\n",
      "20140518.xml.gz was done 0:00:00.343019\n",
      "20140519.xml.gz was done 0:00:01.150066\n",
      "20140520.xml.gz was done 0:00:01.502086\n",
      "20140521.xml.gz was done 0:00:01.167067\n",
      "20140522.xml.gz was done 0:00:01.425081\n",
      "20140523.xml.gz was done 0:00:01.025059\n",
      "20140524.xml.gz was done 0:00:00.177010\n",
      "20140525.xml.gz was done 0:00:00.360021\n",
      "20140526.xml.gz was done 0:00:00.974055\n",
      "20140527.xml.gz was done 0:00:01.101063\n",
      "20140528.xml.gz was done 0:00:01.039060\n",
      "20140529.xml.gz was done 0:00:00.990056\n",
      "20140530.xml.gz was done 0:00:01.097063\n",
      "20140531.xml.gz was done 0:00:00.185011\n",
      "20140601.xml.gz was done 0:00:00.715041\n",
      "20140602.xml.gz was done 0:00:01.201068\n",
      "20140603.xml.gz was done 0:00:01.378079\n",
      "20140604.xml.gz was done 0:00:01.298074\n",
      "20140605.xml.gz was done 0:00:01.415081\n",
      "20140606.xml.gz was done 0:00:01.575090\n",
      "20140607.xml.gz was done 0:00:00.145008\n",
      "20140608.xml.gz was done 0:00:00.308017\n",
      "20140609.xml.gz was done 0:00:01.417082\n",
      "20140610.xml.gz was done 0:00:01.740099\n",
      "20140611.xml.gz was done 0:00:01.422081\n",
      "20140612.xml.gz was done 0:00:01.196069\n",
      "20140613.xml.gz was done 0:00:01.121064\n",
      "20140614.xml.gz was done 0:00:00.168010\n",
      "20140615.xml.gz was done 0:00:00.398022\n",
      "20140616.xml.gz was done 0:00:01.279073\n",
      "20140617.xml.gz was done 0:00:01.120065\n",
      "20140618.xml.gz was done 0:00:01.121064\n",
      "20140619.xml.gz was done 0:00:01.091062\n",
      "20140620.xml.gz was done 0:00:01.026059\n",
      "20140621.xml.gz was done 0:00:00.247014\n",
      "20140622.xml.gz was done 0:00:00.319018\n",
      "20140623.xml.gz was done 0:00:01.181068\n",
      "20140624.xml.gz was done 0:00:01.228070\n",
      "20140625.xml.gz was done 0:00:01.174067\n",
      "20140626.xml.gz was done 0:00:01.116064\n",
      "20140627.xml.gz was done 0:00:01.129065\n",
      "20140628.xml.gz was done 0:00:00.180010\n",
      "20140629.xml.gz was done 0:00:00.442025\n",
      "20140630.xml.gz was done 0:00:01.309075\n",
      "20140701.xml.gz was done 0:00:01.549089\n",
      "20140702.xml.gz was done 0:00:01.403080\n",
      "20140703.xml.gz was done 0:00:01.518087\n",
      "20140704.xml.gz was done 0:00:00.764044\n",
      "20140705.xml.gz was done 0:00:00.208011\n",
      "20140706.xml.gz was done 0:00:00.418024\n",
      "20140707.xml.gz was done 0:00:01.039060\n",
      "20140708.xml.gz was done 0:00:01.130064\n",
      "20140709.xml.gz was done 0:00:01.150066\n",
      "20140710.xml.gz was done 0:00:01.376079\n",
      "20140711.xml.gz was done 0:00:00.939054\n",
      "20140712.xml.gz was done 0:00:00.178010\n",
      "20140713.xml.gz was done 0:00:00.375021\n",
      "20140714.xml.gz was done 0:00:01.282074\n",
      "20140715.xml.gz was done 0:00:01.355077\n",
      "20140716.xml.gz was done 0:00:01.281074\n",
      "20140717.xml.gz was done 0:00:01.304074\n",
      "20140718.xml.gz was done 0:00:01.018058\n",
      "20140719.xml.gz was done 0:00:01.373079\n",
      "20140720.xml.gz was done 0:00:00.343020\n",
      "20140721.xml.gz was done 0:00:01.295074\n",
      "20140722.xml.gz was done 0:00:01.753100\n",
      "20140723.xml.gz was done 0:00:01.581090\n",
      "20140724.xml.gz was done 0:00:01.324076\n"
     ]
    },
    {
     "name": "stdout",
     "output_type": "stream",
     "text": [
      "20140725.xml.gz was done 0:00:00.987057\n",
      "20140726.xml.gz was done 0:00:00.194011\n",
      "20140727.xml.gz was done 0:00:00.336019\n",
      "20140728.xml.gz was done 0:00:01.585091\n",
      "20140729.xml.gz was done 0:00:01.271072\n",
      "20140730.xml.gz was done 0:00:01.250072\n",
      "20140731.xml.gz was done 0:00:01.772101\n",
      "20140801.xml.gz was done 0:00:01.103063\n",
      "20140802.xml.gz was done 0:00:00.204012\n",
      "20140803.xml.gz was done 0:00:00.305017\n",
      "20140804.xml.gz was done 0:00:01.306075\n",
      "20140805.xml.gz was done 0:00:01.777102\n",
      "20140806.xml.gz was done 0:00:01.361078\n",
      "20140807.xml.gz was done 0:00:02.094119\n",
      "20140808.xml.gz was done 0:00:01.217070\n",
      "20140809.xml.gz was done 0:00:00.186011\n",
      "20140810.xml.gz was done 0:00:00.308017\n",
      "20140811.xml.gz was done 0:00:01.324076\n",
      "20140812.xml.gz was done 0:00:01.104063\n",
      "20140813.xml.gz was done 0:00:01.290074\n",
      "20140814.xml.gz was done 0:00:01.330076\n",
      "20140815.xml.gz was done 0:00:00.861049\n",
      "20140816.xml.gz was done 0:00:00.168010\n",
      "20140817.xml.gz was done 0:00:01.791102\n",
      "20140818.xml.gz was done 0:00:01.345077\n",
      "20140819.xml.gz was done 0:00:01.051060\n",
      "20140820.xml.gz was done 0:00:01.124065\n",
      "20140821.xml.gz was done 0:00:01.621092\n",
      "20140822.xml.gz was done 0:00:00.994057\n",
      "20140823.xml.gz was done 0:00:00.310018\n",
      "20140824.xml.gz was done 0:00:00.704040\n",
      "20140825.xml.gz was done 0:00:01.303075\n",
      "20140826.xml.gz was done 0:00:01.520087\n",
      "20140827.xml.gz was done 0:00:01.236071\n",
      "20140828.xml.gz was done 0:00:01.502085\n",
      "20140829.xml.gz was done 0:00:01.242071\n",
      "20140830.xml.gz was done 0:00:00.233014\n",
      "20140831.xml.gz was done 0:00:00.289016\n",
      "20140901.xml.gz was done 0:00:00.922053\n",
      "20140902.xml.gz was done 0:00:01.388079\n",
      "20140903.xml.gz was done 0:00:01.350078\n",
      "20140904.xml.gz was done 0:00:01.539088\n",
      "20140905.xml.gz was done 0:00:01.691096\n",
      "20140906.xml.gz was done 0:00:00.250015\n",
      "20140907.xml.gz was done 0:00:00.420024\n",
      "20140908.xml.gz was done 0:00:01.173067\n",
      "20140909.xml.gz was done 0:00:01.297074\n",
      "20140910.xml.gz was done 0:00:01.442083\n",
      "20140911.xml.gz was done 0:00:01.356077\n",
      "20140912.xml.gz was done 0:00:01.762101\n",
      "20140913.xml.gz was done 0:00:00.212012\n",
      "20140914.xml.gz was done 0:00:00.380022\n",
      "20140915.xml.gz was done 0:00:01.439082\n",
      "20140916.xml.gz was done 0:00:01.384079\n",
      "20140917.xml.gz was done 0:00:01.261072\n",
      "20140918.xml.gz was done 0:00:01.291074\n",
      "20140919.xml.gz was done 0:00:01.591091\n",
      "20140920.xml.gz was done 0:00:00.332019\n",
      "20140921.xml.gz was done 0:00:00.712041\n",
      "20140922.xml.gz was done 0:00:01.335077\n",
      "20140923.xml.gz was done 0:00:01.204068\n",
      "20140924.xml.gz was done 0:00:01.271073\n",
      "20140925.xml.gz was done 0:00:01.400080\n",
      "20140926.xml.gz was done 0:00:01.136065\n",
      "20140927.xml.gz was done 0:00:00.454026\n",
      "20140928.xml.gz was done 0:00:00.301017\n",
      "20140929.xml.gz was done 0:00:01.356078\n",
      "20140930.xml.gz was done 0:00:01.524087\n",
      "20141001.xml.gz was done 0:00:01.142065\n",
      "20141002.xml.gz was done 0:00:01.242071\n",
      "20141003.xml.gz was done 0:00:00.989057\n",
      "20141004.xml.gz was done 0:00:00.231013\n",
      "20141005.xml.gz was done 0:00:00.300018\n",
      "20141006.xml.gz was done 0:00:01.236070\n",
      "20141007.xml.gz was done 0:00:01.368078\n",
      "20141008.xml.gz was done 0:00:01.395080\n",
      "20141009.xml.gz was done 0:00:01.830105\n",
      "20141010.xml.gz was done 0:00:01.108063\n",
      "20141011.xml.gz was done 0:00:00.210012\n",
      "20141012.xml.gz was done 0:00:00.330019\n",
      "20141013.xml.gz was done 0:00:01.317076\n",
      "20141014.xml.gz was done 0:00:03.546202\n",
      "20141015.xml.gz was done 0:00:01.370079\n",
      "20141016.xml.gz was done 0:00:01.586091\n",
      "20141017.xml.gz was done 0:00:01.148065\n",
      "20141018.xml.gz was done 0:00:00.245014\n",
      "20141019.xml.gz was done 0:00:00.378022\n",
      "20141020.xml.gz was done 0:00:01.522087\n",
      "20141021.xml.gz was done 0:00:01.399080\n",
      "20141022.xml.gz was done 0:00:01.405080\n",
      "20141023.xml.gz was done 0:00:01.311075\n",
      "20141024.xml.gz was done 0:00:01.244071\n",
      "20141025.xml.gz was done 0:00:00.201012\n",
      "20141026.xml.gz was done 0:00:00.598034\n",
      "20141027.xml.gz was done 0:00:01.582091\n",
      "20141028.xml.gz was done 0:00:01.579090\n",
      "20141029.xml.gz was done 0:00:01.635093\n",
      "20141030.xml.gz was done 0:00:01.695096\n",
      "20141031.xml.gz was done 0:00:01.364078\n",
      "20141101.xml.gz was done 0:00:01.368078\n",
      "20141102.xml.gz was done 0:00:00.271015\n",
      "20141103.xml.gz was done 0:00:01.890108\n",
      "20141104.xml.gz was done 0:00:01.385080\n",
      "20141105.xml.gz was done 0:00:01.390079\n",
      "20141106.xml.gz was done 0:00:01.437082\n",
      "20141107.xml.gz was done 0:00:01.193069\n",
      "20141108.xml.gz was done 0:00:00.197011\n",
      "20141109.xml.gz was done 0:00:00.420024\n",
      "20141110.xml.gz was done 0:00:01.428082\n",
      "20141111.xml.gz was done 0:00:01.324075\n",
      "20141112.xml.gz was done 0:00:01.534088\n",
      "20141113.xml.gz was done 0:00:01.424082\n",
      "20141114.xml.gz was done 0:00:01.820104\n",
      "20141115.xml.gz was done 0:00:00.234013\n",
      "20141116.xml.gz was done 0:00:00.361021\n",
      "20141117.xml.gz was done 0:00:01.553089\n",
      "20141118.xml.gz was done 0:00:01.684096\n",
      "20141119.xml.gz was done 0:00:01.468084\n",
      "20141120.xml.gz was done 0:00:01.560089\n",
      "20141121.xml.gz was done 0:00:01.144066\n",
      "20141122.xml.gz was done 0:00:00.186010\n",
      "20141123.xml.gz was done 0:00:00.365021\n",
      "20141124.xml.gz was done 0:00:01.451083\n",
      "20141125.xml.gz was done 0:00:01.474084\n",
      "20141126.xml.gz was done 0:00:01.427081\n",
      "20141127.xml.gz was done 0:00:02.015115\n",
      "20141128.xml.gz was done 0:00:01.120064\n",
      "20141129.xml.gz was done 0:00:00.224012\n",
      "20141130.xml.gz was done 0:00:00.520030\n",
      "20141201.xml.gz was done 0:00:01.649094\n",
      "20141202.xml.gz was done 0:00:01.462084\n",
      "20141203.xml.gz was done 0:00:01.996114\n",
      "20141204.xml.gz was done 0:00:02.086120\n",
      "20141205.xml.gz was done 0:00:01.379078\n",
      "20141206.xml.gz was done 0:00:00.235013\n",
      "20141207.xml.gz was done 0:00:00.526030\n",
      "20141208.xml.gz was done 0:00:01.729099\n",
      "20141209.xml.gz was done 0:00:02.078119\n",
      "20141210.xml.gz was done 0:00:01.443082\n",
      "20141211.xml.gz was done 0:00:01.609092\n",
      "20141212.xml.gz was done 0:00:01.427082\n",
      "20141213.xml.gz was done 0:00:01.179068\n",
      "20141214.xml.gz was done 0:00:01.176067\n",
      "20141215.xml.gz was done 0:00:01.596091\n",
      "20141216.xml.gz was done 0:00:02.278130\n",
      "20141217.xml.gz was done 0:00:01.761101\n",
      "20141218.xml.gz was done 0:00:01.494086\n",
      "20141219.xml.gz was done 0:00:01.612092\n",
      "20141220.xml.gz was done 0:00:00.213012\n",
      "20141221.xml.gz was done 0:00:01.615092\n",
      "20141222.xml.gz was done 0:00:01.565090\n",
      "20141223.xml.gz was done 0:00:01.126064\n",
      "20141224.xml.gz was done 0:00:00.826048\n",
      "20141225.xml.gz was done 0:00:00.380021\n",
      "20141226.xml.gz was done 0:00:01.193069\n",
      "20141227.xml.gz was done 0:00:00.241013\n",
      "20141228.xml.gz was done 0:00:00.416024\n",
      "20141229.xml.gz was done 0:00:01.027059\n",
      "20141230.xml.gz was done 0:00:01.130065\n",
      "20141231.xml.gz was done 0:00:01.264072\n",
      "it taked 0:06:19.581711\n"
     ]
    }
   ],
   "source": [
    "start_time = datetime.datetime.now()\n",
    "\n",
    "# コマンドライン引数からダウンロードを開始する日付と範囲を取得\n",
    "start_date = '20140101'\n",
    "span = '365'\n",
    "start = datetime.datetime.strptime(start_date, '%Y%m%d')\n",
    "\n",
    "# S3へ接続\n",
    "session = Session(aws_access_key_id=AWS_ACCESS_KEY_ID,aws_secret_access_key=AWS_SECRET_ACCESS_KEY)\n",
    "s3 = session.resource('s3')\n",
    "bucket = s3.Bucket(BUCKET_NAME)\n",
    "\n",
    "# tagと日付リストを設定\n",
    "tag = \"EID42168_\"\n",
    "dateList = makeDateList(start, span)\n",
    "\n",
    "for date in dateList:\n",
    "    time = datetime.datetime.now()\n",
    "    date = date[9:]\n",
    "    try:\n",
    "        downloadFile(bucket, tag, date)\n",
    "        print(date + ' was done ' + str(datetime.datetime.now()-time))\n",
    "    except Exception as e:\n",
    "        print('error! ' + date)\n",
    "        print(logging.error(traceback.format_exc()))\n",
    "\n",
    "print('it taked ' + str(datetime.datetime.now() - start_time))"
   ]
  },
  {
   "cell_type": "code",
   "execution_count": null,
   "metadata": {
    "collapsed": true
   },
   "outputs": [],
   "source": []
  },
  {
   "cell_type": "code",
   "execution_count": 9,
   "metadata": {
    "scrolled": true
   },
   "outputs": [
    {
     "name": "stdout",
     "output_type": "stream",
     "text": [
      "This processing started at 2017-07-11 15:15:27.688289\n",
      "file_name:EID42168_20140101.xml.gz time:0:00:00.984056 record_count:399 fail_count:4\n",
      "file_name:EID42168_20140102.xml.gz time:0:00:08.897509 record_count:7206 fail_count:17\n",
      "file_name:EID42168_20140103.xml.gz time:0:00:04.289245 record_count:2532 fail_count:12\n",
      "file_name:EID42168_20140104.xml.gz time:0:00:00.257015 record_count:275 fail_count:1\n",
      "file_name:EID42168_20140105.xml.gz time:0:00:01.031059 record_count:495 fail_count:1\n",
      "file_name:EID42168_20140106.xml.gz time:0:00:06.978400 record_count:4081 fail_count:24\n",
      "file_name:EID42168_20140107.xml.gz time:0:00:05.955340 record_count:3884 fail_count:26\n",
      "file_name:EID42168_20140108.xml.gz time:0:00:06.567375 record_count:4174 fail_count:24\n",
      "file_name:EID42168_20140109.xml.gz time:0:00:06.301361 record_count:4367 fail_count:27\n",
      "file_name:EID42168_20140110.xml.gz time:0:00:05.721328 record_count:3567 fail_count:27\n",
      "file_name:EID42168_20140111.xml.gz time:0:00:00.241014 record_count:296 fail_count:2\n",
      "file_name:EID42168_20140112.xml.gz time:0:00:00.657038 record_count:530 fail_count:1\n",
      "file_name:EID42168_20140113.xml.gz time:0:00:07.048403 record_count:3799 fail_count:22\n",
      "file_name:EID42168_20140114.xml.gz time:0:00:05.569318 record_count:4020 fail_count:31\n",
      "file_name:EID42168_20140115.xml.gz time:0:00:06.462369 record_count:4377 fail_count:27\n",
      "file_name:EID42168_20140116.xml.gz time:0:00:07.302417 record_count:4385 fail_count:32\n",
      "file_name:EID42168_20140117.xml.gz time:0:00:05.037288 record_count:3245 fail_count:21\n",
      "file_name:EID42168_20140118.xml.gz time:0:00:00.243014 record_count:259 fail_count:2\n",
      "file_name:EID42168_20140119.xml.gz time:0:00:01.209069 record_count:639 fail_count:1\n",
      "file_name:EID42168_20140120.xml.gz time:0:00:05.114292 record_count:2737 fail_count:25\n",
      "file_name:EID42168_20140121.xml.gz time:0:00:06.800389 record_count:4328 fail_count:20\n",
      "file_name:EID42168_20140122.xml.gz time:0:00:06.476371 record_count:4568 fail_count:39\n",
      "file_name:EID42168_20140123.xml.gz time:0:00:06.787389 record_count:4489 fail_count:38\n",
      "file_name:EID42168_20140124.xml.gz time:0:00:05.111293 record_count:3851 fail_count:22\n",
      "file_name:EID42168_20140125.xml.gz time:0:00:00.401023 record_count:330 fail_count:2\n",
      "file_name:EID42168_20140126.xml.gz time:0:00:01.299074 record_count:646 fail_count:0\n",
      "file_name:EID42168_20140127.xml.gz time:0:00:10.398594 record_count:6482 fail_count:32\n",
      "file_name:EID42168_20140128.xml.gz time:0:00:06.248357 record_count:4193 fail_count:30\n",
      "file_name:EID42168_20140129.xml.gz time:0:00:06.544375 record_count:4606 fail_count:37\n",
      "file_name:EID42168_20140130.xml.gz time:0:00:08.690497 record_count:4117 fail_count:31\n",
      "file_name:EID42168_20140131.xml.gz time:0:00:07.260415 record_count:3320 fail_count:25\n",
      "file_name:EID42168_20140201.xml.gz time:0:00:00.570032 record_count:326 fail_count:4\n",
      "file_name:EID42168_20140202.xml.gz time:0:00:01.929110 record_count:591 fail_count:2\n",
      "file_name:EID42168_20140203.xml.gz time:0:00:10.900624 record_count:3962 fail_count:23\n",
      "file_name:EID42168_20140204.xml.gz time:0:00:07.172410 record_count:4043 fail_count:32\n",
      "file_name:EID42168_20140205.xml.gz time:0:00:11.259644 record_count:4616 fail_count:30\n",
      "file_name:EID42168_20140206.xml.gz time:0:00:11.270644 record_count:4349 fail_count:36\n",
      "file_name:EID42168_20140207.xml.gz time:0:00:07.311418 record_count:3852 fail_count:22\n",
      "file_name:EID42168_20140208.xml.gz time:0:00:00.398023 record_count:312 fail_count:0\n",
      "file_name:EID42168_20140209.xml.gz time:0:00:01.622092 record_count:694 fail_count:3\n",
      "file_name:EID42168_20140210.xml.gz time:0:00:08.192469 record_count:3656 fail_count:38\n",
      "file_name:EID42168_20140211.xml.gz time:0:00:07.045403 record_count:4106 fail_count:31\n",
      "file_name:EID42168_20140212.xml.gz time:0:00:08.239471 record_count:4715 fail_count:38\n",
      "file_name:EID42168_20140213.xml.gz time:0:00:09.341534 record_count:4616 fail_count:42\n",
      "file_name:EID42168_20140214.xml.gz time:0:00:06.745386 record_count:3536 fail_count:41\n",
      "file_name:EID42168_20140215.xml.gz time:0:00:00.340019 record_count:284 fail_count:2\n",
      "file_name:EID42168_20140216.xml.gz time:0:00:01.180067 record_count:634 fail_count:5\n",
      "file_name:EID42168_20140217.xml.gz time:0:00:06.305360 record_count:2724 fail_count:11\n",
      "file_name:EID42168_20140218.xml.gz time:0:00:08.056461 record_count:4510 fail_count:38\n",
      "file_name:EID42168_20140219.xml.gz time:0:00:08.186468 record_count:4423 fail_count:33\n",
      "file_name:EID42168_20140220.xml.gz time:0:00:07.664438 record_count:5244 fail_count:44\n",
      "file_name:EID42168_20140221.xml.gz time:0:00:06.016344 record_count:3825 fail_count:27\n",
      "file_name:EID42168_20140222.xml.gz time:0:00:00.506029 record_count:458 fail_count:1\n",
      "file_name:EID42168_20140223.xml.gz time:0:00:01.852106 record_count:894 fail_count:2\n",
      "file_name:EID42168_20140224.xml.gz time:0:00:07.457426 record_count:4184 fail_count:33\n",
      "file_name:EID42168_20140225.xml.gz time:0:00:07.321419 record_count:4716 fail_count:38\n",
      "file_name:EID42168_20140226.xml.gz time:0:00:07.272416 record_count:4734 fail_count:38\n",
      "file_name:EID42168_20140227.xml.gz time:0:00:07.109407 record_count:4771 fail_count:35\n",
      "file_name:EID42168_20140228.xml.gz time:0:00:06.822390 record_count:4491 fail_count:25\n",
      "file_name:EID42168_20140301.xml.gz time:0:00:00.345019 record_count:528 fail_count:2\n",
      "file_name:EID42168_20140302.xml.gz time:0:00:01.362078 record_count:751 fail_count:6\n",
      "file_name:EID42168_20140303.xml.gz time:0:00:07.087405 record_count:4246 fail_count:51\n",
      "file_name:EID42168_20140304.xml.gz time:0:00:06.954398 record_count:4390 fail_count:29\n",
      "file_name:EID42168_20140305.xml.gz time:0:00:07.201412 record_count:4722 fail_count:16\n",
      "file_name:EID42168_20140306.xml.gz time:0:00:07.562433 record_count:4714 fail_count:41\n",
      "file_name:EID42168_20140307.xml.gz time:0:00:04.698269 record_count:3517 fail_count:35\n",
      "file_name:EID42168_20140308.xml.gz time:0:00:00.554031 record_count:415 fail_count:3\n",
      "file_name:EID42168_20140309.xml.gz time:0:00:01.880108 record_count:854 fail_count:3\n",
      "file_name:EID42168_20140310.xml.gz time:0:00:07.373422 record_count:4304 fail_count:25\n",
      "file_name:EID42168_20140311.xml.gz time:0:00:07.563433 record_count:4640 fail_count:31\n",
      "file_name:EID42168_20140312.xml.gz time:0:00:08.513487 record_count:5742 fail_count:34\n",
      "file_name:EID42168_20140313.xml.gz time:0:00:06.890394 record_count:4796 fail_count:26\n",
      "file_name:EID42168_20140314.xml.gz time:0:00:06.022345 record_count:3603 fail_count:35\n",
      "file_name:EID42168_20140315.xml.gz time:0:00:00.294017 record_count:312 fail_count:1\n",
      "file_name:EID42168_20140316.xml.gz time:0:00:01.067061 record_count:753 fail_count:5\n",
      "file_name:EID42168_20140317.xml.gz time:0:00:07.072405 record_count:4022 fail_count:21\n",
      "file_name:EID42168_20140318.xml.gz time:0:00:09.156524 record_count:8898 fail_count:23\n",
      "file_name:EID42168_20140319.xml.gz time:0:00:07.300417 record_count:4869 fail_count:25\n",
      "file_name:EID42168_20140320.xml.gz time:0:00:07.456426 record_count:4586 fail_count:19\n",
      "file_name:EID42168_20140321.xml.gz time:0:00:05.771330 record_count:3318 fail_count:28\n",
      "file_name:EID42168_20140322.xml.gz time:0:00:00.465026 record_count:340 fail_count:3\n",
      "file_name:EID42168_20140323.xml.gz time:0:00:01.561089 record_count:761 fail_count:9\n",
      "file_name:EID42168_20140324.xml.gz time:0:00:07.033402 record_count:3859 fail_count:19\n",
      "file_name:EID42168_20140325.xml.gz time:0:00:06.581377 record_count:4485 fail_count:44\n",
      "file_name:EID42168_20140326.xml.gz time:0:00:07.470428 record_count:4361 fail_count:33\n",
      "file_name:EID42168_20140327.xml.gz time:0:00:07.499429 record_count:4267 fail_count:30\n",
      "file_name:EID42168_20140328.xml.gz time:0:00:05.943340 record_count:4275 fail_count:27\n",
      "file_name:EID42168_20140329.xml.gz time:0:00:00.467027 record_count:371 fail_count:1\n",
      "file_name:EID42168_20140330.xml.gz time:0:00:01.719098 record_count:810 fail_count:0\n",
      "file_name:EID42168_20140331.xml.gz time:0:00:09.754558 record_count:6535 fail_count:25\n",
      "file_name:EID42168_20140401.xml.gz time:0:00:06.769388 record_count:4959 fail_count:34\n",
      "file_name:EID42168_20140402.xml.gz time:0:00:07.973456 record_count:5074 fail_count:26\n",
      "file_name:EID42168_20140403.xml.gz time:0:00:07.517430 record_count:4640 fail_count:26\n",
      "file_name:EID42168_20140404.xml.gz time:0:00:05.268302 record_count:3266 fail_count:27\n",
      "file_name:EID42168_20140405.xml.gz time:0:00:00.275016 record_count:265 fail_count:4\n"
     ]
    },
    {
     "name": "stdout",
     "output_type": "stream",
     "text": [
      "file_name:EID42168_20140406.xml.gz time:0:00:01.345077 record_count:657 fail_count:0\n",
      "file_name:EID42168_20140407.xml.gz time:0:00:06.444368 record_count:3809 fail_count:28\n",
      "file_name:EID42168_20140408.xml.gz time:0:00:07.237414 record_count:4280 fail_count:25\n",
      "file_name:EID42168_20140409.xml.gz time:0:00:08.272473 record_count:5820 fail_count:34\n",
      "file_name:EID42168_20140410.xml.gz time:0:00:09.556547 record_count:6098 fail_count:33\n",
      "file_name:EID42168_20140411.xml.gz time:0:00:04.986285 record_count:3481 fail_count:26\n",
      "file_name:EID42168_20140412.xml.gz time:0:00:00.583034 record_count:371 fail_count:1\n",
      "file_name:EID42168_20140413.xml.gz time:0:00:01.502086 record_count:769 fail_count:4\n",
      "file_name:EID42168_20140414.xml.gz time:0:00:06.784388 record_count:3700 fail_count:21\n",
      "file_name:EID42168_20140415.xml.gz time:0:00:06.551375 record_count:4237 fail_count:42\n",
      "file_name:EID42168_20140416.xml.gz time:0:00:06.961398 record_count:4182 fail_count:31\n",
      "file_name:EID42168_20140417.xml.gz time:0:00:06.915395 record_count:4322 fail_count:27\n",
      "file_name:EID42168_20140418.xml.gz time:0:00:01.759101 record_count:1040 fail_count:6\n",
      "file_name:EID42168_20140419.xml.gz time:0:00:00.613035 record_count:334 fail_count:0\n",
      "file_name:EID42168_20140420.xml.gz time:0:00:01.311075 record_count:648 fail_count:4\n",
      "file_name:EID42168_20140421.xml.gz time:0:00:05.171296 record_count:2730 fail_count:14\n",
      "file_name:EID42168_20140422.xml.gz time:0:00:08.318476 record_count:4714 fail_count:28\n",
      "file_name:EID42168_20140423.xml.gz time:0:00:07.645438 record_count:4922 fail_count:32\n",
      "file_name:EID42168_20140424.xml.gz time:0:00:07.127408 record_count:4588 fail_count:44\n",
      "file_name:EID42168_20140425.xml.gz time:0:00:05.768330 record_count:3469 fail_count:25\n",
      "file_name:EID42168_20140426.xml.gz time:0:00:00.266015 record_count:325 fail_count:2\n",
      "file_name:EID42168_20140427.xml.gz time:0:00:01.683096 record_count:712 fail_count:1\n",
      "file_name:EID42168_20140428.xml.gz time:0:00:07.374422 record_count:4049 fail_count:23\n",
      "file_name:EID42168_20140429.xml.gz time:0:00:09.687554 record_count:6241 fail_count:34\n",
      "file_name:EID42168_20140430.xml.gz time:0:00:07.704441 record_count:4921 fail_count:45\n",
      "file_name:EID42168_20140501.xml.gz time:0:00:05.523316 record_count:4181 fail_count:34\n",
      "file_name:EID42168_20140502.xml.gz time:0:00:05.473313 record_count:3356 fail_count:37\n",
      "file_name:EID42168_20140503.xml.gz time:0:00:00.275016 record_count:393 fail_count:1\n",
      "file_name:EID42168_20140504.xml.gz time:0:00:00.938054 record_count:596 fail_count:4\n",
      "file_name:EID42168_20140505.xml.gz time:0:00:06.141351 record_count:3426 fail_count:26\n",
      "file_name:EID42168_20140506.xml.gz time:0:00:06.727385 record_count:4000 fail_count:28\n",
      "file_name:EID42168_20140507.xml.gz time:0:00:10.662610 record_count:6432 fail_count:40\n",
      "file_name:EID42168_20140508.xml.gz time:0:00:08.227471 record_count:5584 fail_count:33\n",
      "file_name:EID42168_20140509.xml.gz time:0:00:05.755329 record_count:4159 fail_count:27\n",
      "file_name:EID42168_20140510.xml.gz time:0:00:00.414024 record_count:309 fail_count:0\n",
      "file_name:EID42168_20140511.xml.gz time:0:00:01.715098 record_count:725 fail_count:3\n",
      "file_name:EID42168_20140512.xml.gz time:0:00:08.909509 record_count:4969 fail_count:37\n",
      "file_name:EID42168_20140513.xml.gz time:0:00:07.494429 record_count:4423 fail_count:48\n",
      "file_name:EID42168_20140514.xml.gz time:0:00:09.574548 record_count:6072 fail_count:38\n",
      "file_name:EID42168_20140515.xml.gz time:0:00:10.345592 record_count:6012 fail_count:39\n",
      "file_name:EID42168_20140516.xml.gz time:0:00:04.878279 record_count:3476 fail_count:16\n",
      "file_name:EID42168_20140517.xml.gz time:0:00:00.236014 record_count:265 fail_count:1\n",
      "file_name:EID42168_20140518.xml.gz time:0:00:01.550088 record_count:781 fail_count:6\n",
      "file_name:EID42168_20140519.xml.gz time:0:00:07.546432 record_count:3992 fail_count:26\n",
      "file_name:EID42168_20140520.xml.gz time:0:00:09.420539 record_count:6976 fail_count:24\n",
      "file_name:EID42168_20140521.xml.gz time:0:00:07.222413 record_count:4283 fail_count:24\n",
      "file_name:EID42168_20140522.xml.gz time:0:00:07.480428 record_count:4333 fail_count:28\n",
      "file_name:EID42168_20140523.xml.gz time:0:00:05.590319 record_count:3820 fail_count:16\n",
      "file_name:EID42168_20140524.xml.gz time:0:00:00.302017 record_count:278 fail_count:3\n",
      "file_name:EID42168_20140525.xml.gz time:0:00:01.724099 record_count:976 fail_count:2\n",
      "file_name:EID42168_20140526.xml.gz time:0:00:04.830276 record_count:2531 fail_count:5\n",
      "file_name:EID42168_20140527.xml.gz time:0:00:07.134408 record_count:4044 fail_count:28\n",
      "file_name:EID42168_20140528.xml.gz time:0:00:06.494371 record_count:3947 fail_count:28\n",
      "file_name:EID42168_20140529.xml.gz time:0:00:05.986342 record_count:3967 fail_count:29\n",
      "file_name:EID42168_20140530.xml.gz time:0:00:06.117350 record_count:3982 fail_count:26\n",
      "file_name:EID42168_20140531.xml.gz time:0:00:00.284016 record_count:321 fail_count:0\n",
      "file_name:EID42168_20140601.xml.gz time:0:00:01.094062 record_count:802 fail_count:1\n",
      "file_name:EID42168_20140602.xml.gz time:0:00:08.093463 record_count:4570 fail_count:25\n",
      "file_name:EID42168_20140603.xml.gz time:0:00:07.671439 record_count:5109 fail_count:21\n",
      "file_name:EID42168_20140604.xml.gz time:0:00:07.715441 record_count:4502 fail_count:15\n",
      "file_name:EID42168_20140605.xml.gz time:0:00:07.911452 record_count:4948 fail_count:25\n",
      "file_name:EID42168_20140606.xml.gz time:0:00:08.952512 record_count:5194 fail_count:12\n",
      "file_name:EID42168_20140607.xml.gz time:0:00:00.141008 record_count:194 fail_count:3\n",
      "file_name:EID42168_20140608.xml.gz time:0:00:00.909052 record_count:605 fail_count:3\n",
      "file_name:EID42168_20140609.xml.gz time:0:00:06.422367 record_count:3504 fail_count:20\n",
      "file_name:EID42168_20140610.xml.gz time:0:00:07.877451 record_count:4648 fail_count:29\n",
      "file_name:EID42168_20140611.xml.gz time:0:00:07.079405 record_count:4673 fail_count:16\n",
      "file_name:EID42168_20140612.xml.gz time:0:00:05.865335 record_count:4297 fail_count:22\n",
      "file_name:EID42168_20140613.xml.gz time:0:00:05.628322 record_count:3259 fail_count:26\n",
      "file_name:EID42168_20140614.xml.gz time:0:00:00.244014 record_count:294 fail_count:2\n",
      "file_name:EID42168_20140615.xml.gz time:0:00:01.938111 record_count:1362 fail_count:1\n",
      "file_name:EID42168_20140616.xml.gz time:0:00:08.000458 record_count:4645 fail_count:37\n",
      "file_name:EID42168_20140617.xml.gz time:0:00:06.555375 record_count:4100 fail_count:20\n",
      "file_name:EID42168_20140618.xml.gz time:0:00:07.004401 record_count:4304 fail_count:35\n",
      "file_name:EID42168_20140619.xml.gz time:0:00:06.787389 record_count:4509 fail_count:26\n",
      "file_name:EID42168_20140620.xml.gz time:0:00:06.329362 record_count:4434 fail_count:23\n",
      "file_name:EID42168_20140621.xml.gz time:0:00:00.620036 record_count:411 fail_count:0\n",
      "file_name:EID42168_20140622.xml.gz time:0:00:01.356078 record_count:660 fail_count:2\n",
      "file_name:EID42168_20140623.xml.gz time:0:00:07.163410 record_count:4270 fail_count:16\n",
      "file_name:EID42168_20140624.xml.gz time:0:00:08.068461 record_count:4738 fail_count:24\n",
      "file_name:EID42168_20140625.xml.gz time:0:00:07.118407 record_count:4673 fail_count:23\n",
      "file_name:EID42168_20140626.xml.gz time:0:00:06.558375 record_count:4322 fail_count:39\n",
      "file_name:EID42168_20140627.xml.gz time:0:00:06.578377 record_count:3714 fail_count:39\n",
      "file_name:EID42168_20140628.xml.gz time:0:00:00.225013 record_count:255 fail_count:2\n",
      "file_name:EID42168_20140629.xml.gz time:0:00:01.208069 record_count:809 fail_count:2\n",
      "file_name:EID42168_20140630.xml.gz time:0:00:09.180525 record_count:4927 fail_count:37\n",
      "file_name:EID42168_20140701.xml.gz time:0:00:08.109464 record_count:5968 fail_count:34\n",
      "file_name:EID42168_20140702.xml.gz time:0:00:06.508372 record_count:4344 fail_count:23\n",
      "file_name:EID42168_20140703.xml.gz time:0:00:07.099406 record_count:4055 fail_count:23\n",
      "file_name:EID42168_20140704.xml.gz time:0:00:03.640208 record_count:2410 fail_count:12\n",
      "file_name:EID42168_20140705.xml.gz time:0:00:00.302018 record_count:352 fail_count:1\n",
      "file_name:EID42168_20140706.xml.gz time:0:00:01.286074 record_count:740 fail_count:1\n",
      "file_name:EID42168_20140707.xml.gz time:0:00:07.075405 record_count:3827 fail_count:17\n",
      "file_name:EID42168_20140708.xml.gz time:0:00:06.768387 record_count:4449 fail_count:41\n",
      "file_name:EID42168_20140709.xml.gz time:0:00:06.972399 record_count:4151 fail_count:27\n"
     ]
    },
    {
     "name": "stdout",
     "output_type": "stream",
     "text": [
      "file_name:EID42168_20140710.xml.gz time:0:00:07.459426 record_count:4559 fail_count:39\n",
      "file_name:EID42168_20140711.xml.gz time:0:00:05.176296 record_count:3390 fail_count:32\n",
      "file_name:EID42168_20140712.xml.gz time:0:00:00.248014 record_count:262 fail_count:2\n",
      "file_name:EID42168_20140713.xml.gz time:0:00:01.588091 record_count:778 fail_count:5\n",
      "file_name:EID42168_20140714.xml.gz time:0:00:07.765444 record_count:4257 fail_count:26\n",
      "file_name:EID42168_20140715.xml.gz time:0:00:08.229471 record_count:4944 fail_count:29\n",
      "file_name:EID42168_20140716.xml.gz time:0:00:08.616493 record_count:5030 fail_count:41\n",
      "file_name:EID42168_20140717.xml.gz time:0:00:07.625437 record_count:4829 fail_count:35\n",
      "file_name:EID42168_20140718.xml.gz time:0:00:05.701326 record_count:3635 fail_count:34\n",
      "file_name:EID42168_20140719.xml.gz time:0:00:00.373021 record_count:364 fail_count:1\n",
      "file_name:EID42168_20140720.xml.gz time:0:00:01.539088 record_count:688 fail_count:3\n",
      "file_name:EID42168_20140721.xml.gz time:0:00:08.073461 record_count:4316 fail_count:20\n",
      "file_name:EID42168_20140722.xml.gz time:0:00:07.544431 record_count:4552 fail_count:41\n",
      "file_name:EID42168_20140723.xml.gz time:0:00:08.747501 record_count:5624 fail_count:37\n",
      "file_name:EID42168_20140724.xml.gz time:0:00:09.036517 record_count:5548 fail_count:30\n",
      "file_name:EID42168_20140725.xml.gz time:0:00:06.069348 record_count:3455 fail_count:23\n",
      "file_name:EID42168_20140726.xml.gz time:0:00:00.252014 record_count:347 fail_count:1\n",
      "file_name:EID42168_20140727.xml.gz time:0:00:00.948054 record_count:667 fail_count:2\n",
      "file_name:EID42168_20140728.xml.gz time:0:00:07.453426 record_count:4256 fail_count:26\n",
      "file_name:EID42168_20140729.xml.gz time:0:00:07.876451 record_count:4686 fail_count:45\n",
      "file_name:EID42168_20140730.xml.gz time:0:00:07.484428 record_count:5441 fail_count:39\n",
      "file_name:EID42168_20140731.xml.gz time:0:00:08.788503 record_count:5332 fail_count:53\n",
      "file_name:EID42168_20140801.xml.gz time:0:00:06.548374 record_count:4383 fail_count:30\n",
      "file_name:EID42168_20140802.xml.gz time:0:00:00.281017 record_count:283 fail_count:0\n",
      "file_name:EID42168_20140803.xml.gz time:0:00:01.330076 record_count:717 fail_count:4\n",
      "file_name:EID42168_20140804.xml.gz time:0:00:07.173410 record_count:4441 fail_count:20\n",
      "file_name:EID42168_20140805.xml.gz time:0:00:07.270416 record_count:4255 fail_count:40\n",
      "file_name:EID42168_20140806.xml.gz time:0:00:07.967456 record_count:4805 fail_count:46\n",
      "file_name:EID42168_20140807.xml.gz time:0:00:11.562661 record_count:7149 fail_count:37\n",
      "file_name:EID42168_20140808.xml.gz time:0:00:05.268302 record_count:3550 fail_count:25\n",
      "file_name:EID42168_20140809.xml.gz time:0:00:00.256015 record_count:296 fail_count:3\n",
      "file_name:EID42168_20140810.xml.gz time:0:00:01.193068 record_count:786 fail_count:7\n",
      "file_name:EID42168_20140811.xml.gz time:0:00:07.256415 record_count:3622 fail_count:31\n",
      "file_name:EID42168_20140812.xml.gz time:0:00:06.215356 record_count:4279 fail_count:20\n",
      "file_name:EID42168_20140813.xml.gz time:0:00:07.376422 record_count:4243 fail_count:24\n",
      "file_name:EID42168_20140814.xml.gz time:0:00:07.256415 record_count:4041 fail_count:28\n",
      "file_name:EID42168_20140815.xml.gz time:0:00:05.178296 record_count:3126 fail_count:20\n",
      "file_name:EID42168_20140816.xml.gz time:0:00:00.449026 record_count:225 fail_count:3\n",
      "file_name:EID42168_20140817.xml.gz time:0:00:01.572090 record_count:778 fail_count:4\n",
      "file_name:EID42168_20140818.xml.gz time:0:00:08.004458 record_count:5687 fail_count:25\n",
      "file_name:EID42168_20140819.xml.gz time:0:00:06.146352 record_count:4029 fail_count:27\n",
      "file_name:EID42168_20140820.xml.gz time:0:00:07.064405 record_count:4581 fail_count:19\n",
      "file_name:EID42168_20140821.xml.gz time:0:00:09.105520 record_count:8100 fail_count:28\n",
      "file_name:EID42168_20140822.xml.gz time:0:00:06.208355 record_count:3898 fail_count:27\n",
      "file_name:EID42168_20140823.xml.gz time:0:00:00.494028 record_count:1089 fail_count:2\n",
      "file_name:EID42168_20140824.xml.gz time:0:00:03.914224 record_count:4728 fail_count:4\n",
      "file_name:EID42168_20140825.xml.gz time:0:00:08.478485 record_count:5955 fail_count:15\n",
      "file_name:EID42168_20140826.xml.gz time:0:00:09.807561 record_count:8291 fail_count:21\n",
      "file_name:EID42168_20140827.xml.gz time:0:00:07.197412 record_count:5845 fail_count:19\n",
      "file_name:EID42168_20140828.xml.gz time:0:00:09.326534 record_count:8179 fail_count:34\n",
      "file_name:EID42168_20140829.xml.gz time:0:00:08.115464 record_count:7180 fail_count:21\n",
      "file_name:EID42168_20140830.xml.gz time:0:00:01.154066 record_count:1111 fail_count:0\n",
      "file_name:EID42168_20140831.xml.gz time:0:00:01.515087 record_count:837 fail_count:3\n",
      "file_name:EID42168_20140901.xml.gz time:0:00:05.998343 record_count:2810 fail_count:14\n",
      "file_name:EID42168_20140902.xml.gz time:0:00:09.259530 record_count:5436 fail_count:47\n",
      "file_name:EID42168_20140903.xml.gz time:0:00:09.229528 record_count:5086 fail_count:34\n",
      "file_name:EID42168_20140904.xml.gz time:0:00:09.211527 record_count:6525 fail_count:26\n",
      "file_name:EID42168_20140905.xml.gz time:0:00:09.614550 record_count:7772 fail_count:20\n",
      "file_name:EID42168_20140906.xml.gz time:0:00:00.623035 record_count:1366 fail_count:3\n",
      "file_name:EID42168_20140907.xml.gz time:0:00:01.328075 record_count:1252 fail_count:3\n",
      "file_name:EID42168_20140908.xml.gz time:0:00:07.675439 record_count:3969 fail_count:34\n",
      "file_name:EID42168_20140909.xml.gz time:0:00:08.440482 record_count:4820 fail_count:31\n",
      "file_name:EID42168_20140910.xml.gz time:0:00:08.042460 record_count:4806 fail_count:36\n",
      "file_name:EID42168_20140911.xml.gz time:0:00:07.579434 record_count:4877 fail_count:28\n",
      "file_name:EID42168_20140912.xml.gz time:0:00:07.027402 record_count:3787 fail_count:22\n",
      "file_name:EID42168_20140913.xml.gz time:0:00:00.436025 record_count:367 fail_count:2\n",
      "file_name:EID42168_20140914.xml.gz time:0:00:01.452083 record_count:770 fail_count:4\n",
      "file_name:EID42168_20140915.xml.gz time:0:00:08.516487 record_count:4505 fail_count:36\n",
      "file_name:EID42168_20140916.xml.gz time:0:00:09.348535 record_count:5144 fail_count:38\n",
      "file_name:EID42168_20140917.xml.gz time:0:00:07.638437 record_count:4763 fail_count:31\n",
      "file_name:EID42168_20140918.xml.gz time:0:00:08.220470 record_count:4577 fail_count:28\n",
      "file_name:EID42168_20140919.xml.gz time:0:00:07.975456 record_count:4824 fail_count:18\n",
      "file_name:EID42168_20140920.xml.gz time:0:00:00.329019 record_count:355 fail_count:2\n",
      "file_name:EID42168_20140921.xml.gz time:0:00:03.816218 record_count:2217 fail_count:1\n",
      "file_name:EID42168_20140922.xml.gz time:0:00:09.046517 record_count:4513 fail_count:22\n",
      "file_name:EID42168_20140923.xml.gz time:0:00:07.019401 record_count:3966 fail_count:40\n",
      "file_name:EID42168_20140924.xml.gz time:0:00:07.492429 record_count:4040 fail_count:34\n",
      "file_name:EID42168_20140925.xml.gz time:0:00:08.576491 record_count:5245 fail_count:42\n",
      "file_name:EID42168_20140926.xml.gz time:0:00:07.364421 record_count:4603 fail_count:31\n",
      "file_name:EID42168_20140927.xml.gz time:0:00:00.324018 record_count:361 fail_count:1\n",
      "file_name:EID42168_20140928.xml.gz time:0:00:01.193068 record_count:835 fail_count:5\n",
      "file_name:EID42168_20140929.xml.gz time:0:00:09.142523 record_count:4121 fail_count:30\n",
      "file_name:EID42168_20140930.xml.gz time:0:00:08.930511 record_count:5997 fail_count:28\n",
      "file_name:EID42168_20141001.xml.gz time:0:00:07.226413 record_count:4247 fail_count:25\n",
      "file_name:EID42168_20141002.xml.gz time:0:00:08.099463 record_count:4578 fail_count:25\n",
      "file_name:EID42168_20141003.xml.gz time:0:00:06.155352 record_count:3252 fail_count:17\n",
      "file_name:EID42168_20141004.xml.gz time:0:00:00.311018 record_count:349 fail_count:1\n",
      "file_name:EID42168_20141005.xml.gz time:0:00:00.986057 record_count:629 fail_count:1\n",
      "file_name:EID42168_20141006.xml.gz time:0:00:08.393480 record_count:4258 fail_count:23\n",
      "file_name:EID42168_20141007.xml.gz time:0:00:08.526488 record_count:4964 fail_count:32\n",
      "file_name:EID42168_20141008.xml.gz time:0:00:08.650495 record_count:5067 fail_count:41\n",
      "file_name:EID42168_20141009.xml.gz time:0:00:11.097635 record_count:9165 fail_count:30\n",
      "file_name:EID42168_20141010.xml.gz time:0:00:06.270358 record_count:3877 fail_count:26\n",
      "file_name:EID42168_20141011.xml.gz time:0:00:00.650037 record_count:442 fail_count:3\n",
      "file_name:EID42168_20141012.xml.gz time:0:00:01.569090 record_count:782 fail_count:5\n"
     ]
    },
    {
     "name": "stdout",
     "output_type": "stream",
     "text": [
      "file_name:EID42168_20141013.xml.gz time:0:00:07.702440 record_count:3763 fail_count:29\n",
      "file_name:EID42168_20141014.xml.gz time:0:00:08.147466 record_count:4432 fail_count:29\n",
      "file_name:EID42168_20141015.xml.gz time:0:00:08.853506 record_count:4784 fail_count:35\n",
      "file_name:EID42168_20141016.xml.gz time:0:00:09.424539 record_count:5534 fail_count:52\n",
      "file_name:EID42168_20141017.xml.gz time:0:00:06.735386 record_count:3722 fail_count:28\n",
      "file_name:EID42168_20141018.xml.gz time:0:00:00.529030 record_count:377 fail_count:2\n",
      "file_name:EID42168_20141019.xml.gz time:0:00:01.770102 record_count:871 fail_count:2\n",
      "file_name:EID42168_20141020.xml.gz time:0:00:10.117579 record_count:5180 fail_count:33\n",
      "file_name:EID42168_20141021.xml.gz time:0:00:07.789445 record_count:4618 fail_count:40\n",
      "file_name:EID42168_20141022.xml.gz time:0:00:08.425481 record_count:5203 fail_count:47\n",
      "file_name:EID42168_20141023.xml.gz time:0:00:08.828505 record_count:4654 fail_count:40\n",
      "file_name:EID42168_20141024.xml.gz time:0:00:06.358364 record_count:3614 fail_count:35\n",
      "file_name:EID42168_20141025.xml.gz time:0:00:00.258015 record_count:320 fail_count:1\n",
      "file_name:EID42168_20141026.xml.gz time:0:00:02.578148 record_count:1170 fail_count:5\n",
      "file_name:EID42168_20141027.xml.gz time:0:00:09.803561 record_count:4813 fail_count:35\n",
      "file_name:EID42168_20141028.xml.gz time:0:00:09.965570 record_count:5863 fail_count:41\n",
      "file_name:EID42168_20141029.xml.gz time:0:00:09.007515 record_count:4844 fail_count:52\n",
      "file_name:EID42168_20141030.xml.gz time:0:00:10.734614 record_count:6793 fail_count:54\n",
      "file_name:EID42168_20141031.xml.gz time:0:00:09.615550 record_count:5601 fail_count:31\n",
      "file_name:EID42168_20141101.xml.gz time:0:00:00.263016 record_count:321 fail_count:0\n",
      "file_name:EID42168_20141102.xml.gz time:0:00:00.711041 record_count:677 fail_count:1\n",
      "file_name:EID42168_20141103.xml.gz time:0:00:10.395594 record_count:5172 fail_count:21\n",
      "file_name:EID42168_20141104.xml.gz time:0:00:09.062518 record_count:5298 fail_count:39\n",
      "file_name:EID42168_20141105.xml.gz time:0:00:09.190525 record_count:5212 fail_count:46\n",
      "file_name:EID42168_20141106.xml.gz time:0:00:08.779502 record_count:5310 fail_count:41\n",
      "file_name:EID42168_20141107.xml.gz time:0:00:07.659438 record_count:4192 fail_count:28\n",
      "file_name:EID42168_20141108.xml.gz time:0:00:00.416024 record_count:437 fail_count:4\n",
      "file_name:EID42168_20141109.xml.gz time:0:00:01.275073 record_count:860 fail_count:3\n",
      "file_name:EID42168_20141110.xml.gz time:0:00:08.861507 record_count:4554 fail_count:28\n",
      "file_name:EID42168_20141111.xml.gz time:0:00:07.878450 record_count:4246 fail_count:30\n",
      "file_name:EID42168_20141112.xml.gz time:0:00:09.500544 record_count:5197 fail_count:47\n",
      "file_name:EID42168_20141113.xml.gz time:0:00:08.863506 record_count:5185 fail_count:36\n",
      "file_name:EID42168_20141114.xml.gz time:0:00:10.431596 record_count:7492 fail_count:36\n",
      "file_name:EID42168_20141115.xml.gz time:0:00:00.427024 record_count:451 fail_count:4\n",
      "file_name:EID42168_20141116.xml.gz time:0:00:01.720098 record_count:751 fail_count:4\n",
      "file_name:EID42168_20141117.xml.gz time:0:00:09.905567 record_count:4971 fail_count:34\n",
      "file_name:EID42168_20141118.xml.gz time:0:00:09.291531 record_count:5306 fail_count:32\n",
      "file_name:EID42168_20141119.xml.gz time:0:00:09.314532 record_count:5891 fail_count:29\n",
      "file_name:EID42168_20141120.xml.gz time:0:00:09.455541 record_count:5411 fail_count:33\n",
      "file_name:EID42168_20141121.xml.gz time:0:00:06.895395 record_count:4082 fail_count:20\n",
      "file_name:EID42168_20141122.xml.gz time:0:00:00.458026 record_count:283 fail_count:2\n",
      "file_name:EID42168_20141123.xml.gz time:0:00:01.834105 record_count:834 fail_count:0\n",
      "file_name:EID42168_20141124.xml.gz time:0:00:09.874565 record_count:4403 fail_count:25\n",
      "file_name:EID42168_20141125.xml.gz time:0:00:08.885508 record_count:5470 fail_count:33\n",
      "file_name:EID42168_20141126.xml.gz time:0:00:09.158524 record_count:5214 fail_count:26\n",
      "file_name:EID42168_20141127.xml.gz time:0:00:11.029631 record_count:9047 fail_count:19\n",
      "file_name:EID42168_20141128.xml.gz time:0:00:07.371422 record_count:3965 fail_count:22\n",
      "file_name:EID42168_20141129.xml.gz time:0:00:00.296017 record_count:317 fail_count:2\n",
      "file_name:EID42168_20141130.xml.gz time:0:00:01.973113 record_count:982 fail_count:3\n",
      "file_name:EID42168_20141201.xml.gz time:0:00:09.576548 record_count:4589 fail_count:33\n",
      "file_name:EID42168_20141202.xml.gz time:0:00:09.262529 record_count:5195 fail_count:26\n",
      "file_name:EID42168_20141203.xml.gz time:0:00:11.390652 record_count:7572 fail_count:31\n",
      "file_name:EID42168_20141204.xml.gz time:0:00:13.660781 record_count:10072 fail_count:20\n",
      "file_name:EID42168_20141205.xml.gz time:0:00:08.043461 record_count:5215 fail_count:25\n",
      "file_name:EID42168_20141206.xml.gz time:0:00:00.404023 record_count:388 fail_count:0\n",
      "file_name:EID42168_20141207.xml.gz time:0:00:02.194126 record_count:870 fail_count:6\n",
      "file_name:EID42168_20141208.xml.gz time:0:00:10.732614 record_count:4941 fail_count:33\n",
      "file_name:EID42168_20141209.xml.gz time:0:00:11.797675 record_count:5031 fail_count:29\n",
      "file_name:EID42168_20141210.xml.gz time:0:00:09.325534 record_count:5233 fail_count:17\n",
      "file_name:EID42168_20141211.xml.gz time:0:00:09.579547 record_count:5418 fail_count:30\n",
      "file_name:EID42168_20141212.xml.gz time:0:00:06.918396 record_count:3982 fail_count:27\n",
      "file_name:EID42168_20141213.xml.gz time:0:00:05.479313 record_count:6536 fail_count:1\n",
      "file_name:EID42168_20141214.xml.gz time:0:00:05.028288 record_count:4256 fail_count:4\n",
      "file_name:EID42168_20141215.xml.gz time:0:00:09.824562 record_count:5453 fail_count:32\n",
      "file_name:EID42168_20141216.xml.gz time:0:00:15.281874 record_count:11011 fail_count:42\n",
      "file_name:EID42168_20141217.xml.gz time:0:00:11.514659 record_count:7243 fail_count:42\n",
      "file_name:EID42168_20141218.xml.gz time:0:00:08.601492 record_count:4814 fail_count:28\n",
      "file_name:EID42168_20141219.xml.gz time:0:00:06.951397 record_count:4026 fail_count:35\n",
      "file_name:EID42168_20141220.xml.gz time:0:00:00.365021 record_count:387 fail_count:2\n",
      "file_name:EID42168_20141221.xml.gz time:0:00:01.434082 record_count:924 fail_count:1\n",
      "file_name:EID42168_20141222.xml.gz time:0:00:08.748500 record_count:3955 fail_count:11\n",
      "file_name:EID42168_20141223.xml.gz time:0:00:07.082405 record_count:3511 fail_count:27\n",
      "file_name:EID42168_20141224.xml.gz time:0:00:04.282244 record_count:2487 fail_count:13\n",
      "file_name:EID42168_20141225.xml.gz time:0:00:01.786102 record_count:1034 fail_count:2\n",
      "file_name:EID42168_20141226.xml.gz time:0:00:04.485257 record_count:2609 fail_count:9\n",
      "file_name:EID42168_20141227.xml.gz time:0:00:00.350020 record_count:352 fail_count:0\n",
      "file_name:EID42168_20141228.xml.gz time:0:00:01.295074 record_count:759 fail_count:4\n",
      "file_name:EID42168_20141229.xml.gz time:0:00:06.617379 record_count:2643 fail_count:11\n",
      "file_name:EID42168_20141230.xml.gz time:0:00:06.221355 record_count:4328 fail_count:18\n",
      "file_name:EID42168_20141231.xml.gz time:0:00:06.720385 record_count:4957 fail_count:12\n",
      "It taked 2017-07-11 15:53:09.641665 seconds\n"
     ]
    }
   ],
   "source": [
    "# 片山さんのプログラムによる抽出 csv1へ格納\n",
    "import gzip,os,tarfile,sys\n",
    "from settings import *\n",
    "import pandas as pd\n",
    "from pandas import DataFrame\n",
    "from boto3.session import Session\n",
    "import xml.etree.ElementTree as et\n",
    "import datetime\n",
    "\n",
    "\n",
    "# xml.gzファイルを解凍、xmlの構造を解析しCSVファイルを作成する関数\n",
    "def convertToCSV(file_name):\n",
    "    start = datetime.datetime.now()\n",
    "\n",
    "    # 引数として渡されたtar.gzファイルを解凍し、オープン\n",
    "    f = gzip.open(os.path.join(DATA_DIR,'original_Data',file_name), 'r')\n",
    "\n",
    "    # CSVファイルのカラムに対応する配列を初期化\n",
    "    ids = []\n",
    "    headlines = []\n",
    "    timeofarrivals = []\n",
    "    langs = []\n",
    "\n",
    "    # xmlを解析し、rootを取得\n",
    "    tree = et.parse(f)\n",
    "    elem = tree.getroot()\n",
    "    # エラーとなった記事をカウントする変数を初期化\n",
    "    fail_cnt = 0\n",
    "\n",
    "    # 解析したxmlから、記事単位で要素を取得\n",
    "    contents = elem.getiterator('ContentT')\n",
    "\n",
    "    for content in contents:\n",
    "        try:\n",
    "            # 記事の言語情報を取得し、日本語か英語の記事であれば以降の処理を実施\n",
    "            lang = content.find(\".//LanguageString\").text\n",
    "            if lang == 'JAPANESE' or lang == 'ENGLISH':\n",
    "                # 言語、ID、タイトル、タイムスタンプを配列に格納\n",
    "                langs.append(lang)\n",
    "                ids.append(content.find(\".//Id/SUID\").text)\n",
    "                headlines.append(content.find(\".//Headline\").text)\n",
    "                timeofarrivals.append(content.find(\".//TimeOfArrival\").text)\n",
    "        except:\n",
    "            # 読み取りに失敗した場合はカウント\n",
    "            fail_cnt += 1\n",
    "\n",
    "    # カラムに対応する配列を用いてDataFrameを作成\n",
    "    df = DataFrame({\n",
    "            \"Id\":ids,\n",
    "            \"Headline\":headlines,\n",
    "            \"TimeOfArrival\":timeofarrivals,\n",
    "            \"Language\": langs\n",
    "        }).drop_duplicates() # 重複レコードを削除\n",
    "\n",
    "    # DataFrameをCSVファイルとして保存\n",
    "    df.to_csv(os.path.join(DATA_DIR,'csv1',file_name.replace(\".xml.gz\",\".csv\")),encoding='utf8',header=False,index=False)\n",
    "    f.close()\n",
    "\n",
    "    print('file_name:' + file_name + ' time:' + str(datetime.datetime.now()-start) + ' record_count:' + str(len(df)) + ' fail_count:' + str(fail_cnt))\n",
    "\n",
    "\n",
    "start_time = datetime.datetime.now()\n",
    "print('This processing started at ' + str(start_time))\n",
    "\n",
    "# dataフォルダ配下の全ファイルを取得\n",
    "files = os.listdir(DATA_DIR+'/original_Data')\n",
    "# csvフォルダ配下の全フォルダを取得\n",
    "csvs = os.listdir(DATA_DIR + '/csv1/')\n",
    "\n",
    "for i, gz in enumerate(files):\n",
    "    # ファイルの拡張子がxml.gzで、まだcsvファイルが存在しない場合は処理を実施\n",
    "    if gz[-6:] == 'xml.gz' and gz[:17]+'.csv' not in csvs:\n",
    "        convertToCSV(gz)\n",
    "\n",
    "print('It taked ' + str(datetime.datetime.now()) + ' seconds')\n"
   ]
  },
  {
   "cell_type": "code",
   "execution_count": 6,
   "metadata": {
    "scrolled": true
   },
   "outputs": [
    {
     "data": {
      "text/plain": [
       "'C:\\\\Users\\\\user\\\\Documents\\\\GitHub\\\\data\\\\csv1'"
      ]
     },
     "execution_count": 6,
     "metadata": {},
     "output_type": "execute_result"
    }
   ],
   "source": []
  },
  {
   "cell_type": "code",
   "execution_count": null,
   "metadata": {
    "collapsed": true
   },
   "outputs": [],
   "source": []
  },
  {
   "cell_type": "code",
   "execution_count": 55,
   "metadata": {
    "collapsed": true
   },
   "outputs": [],
   "source": [
    "# ナカシマのcsvの処理。bodyが入っていて、日本語しか扱っていない。csv2に格納\n",
    "def my_convertToCSV(file_name):\n",
    "    start = datetime.datetime.now()\n",
    "\n",
    "    # 引数として渡されたtar.gzファイルを解凍し、オープン\n",
    "    f = gzip.open(os.path.join(DATA_DIR,'EID42186/original_Data',file_name), 'r')\n",
    "\n",
    "    # CSVファイルのカラムに対応する配列を初期化\n",
    "    ids = []\n",
    "    headlines = []\n",
    "    timeofarrivals = []\n",
    "    bodys = []\n",
    "    #langs = []\n",
    "\n",
    "    # xmlを解析し、rootを取得\n",
    "    tree = et.parse(f)\n",
    "    elem = tree.getroot()\n",
    "    # エラーとなった記事をカウントする変数を初期化\n",
    "    fail_cnt = 0\n",
    "\n",
    "    # 解析したxmlから、記事単位で要素を取得\n",
    "    contents = elem.getiterator('ContentT')\n",
    "\n",
    "    for content in contents:\n",
    "        try:\n",
    "            # 記事の言語情報を取得し、日本語か英語の記事であれば以降の処理を実施\n",
    "            lang = content.find(\".//LanguageString\").text\n",
    "            #if lang == 'JAPANESE' or lang == 'ENGLISH':\n",
    "            if lang == 'JAPANESE':\n",
    "                if content.find(\".//Body\").text is not ' ':\n",
    "                    # 言語、ID、タイトル、タイムスタンプを配列に格納\n",
    "                    #langs.append(lang)\n",
    "                    ids.append(content.find(\".//Id/SUID\").text)\n",
    "                    headlines.append(content.find(\".//Headline\").text)\n",
    "                    timeofarrivals.append(content.find(\".//TimeOfArrival\").text)\n",
    "                    bodys.append(content.find(\".//Body\").text)\n",
    "        except:\n",
    "            # 読み取りに失敗した場合はカウント\n",
    "            fail_cnt += 1\n",
    "            #traceback.print_exc()\n",
    "    \n",
    "    print('fail_cnt:', fail_cnt)\n",
    "    \n",
    "    # カラムに対応する配列を用いてDataFrameを作成\n",
    "    df = DataFrame({\"Id\":ids})\n",
    "    df['Headline']=headlines\n",
    "    df['Body']=bodys\n",
    "    df['TimeOfArrival']=timeofarrivals\n",
    "    df = df.drop_duplicates(['Id'])\n",
    "    # DataFrameをCSVファイルとして保存\n",
    "    df.to_csv(os.path.join(DATA_DIR,'csv2',file_name.replace(\".xml.gz\",\".csv\")),encoding='utf8',index=False)\n",
    "    f.close()\n",
    "\n",
    "    print('file_name:' + file_name + ' time:' + str(datetime.datetime.now()-start) + ' record_count:' + str(len(df)) + ' fail_count:' + str(fail_cnt))"
   ]
  },
  {
   "cell_type": "code",
   "execution_count": 58,
   "metadata": {
    "scrolled": true
   },
   "outputs": [],
   "source": [
    "#　全ファイル取得\n",
    "files = os.listdir(DATA_DIR+'/EID42186/original_Data')"
   ]
  },
  {
   "cell_type": "code",
   "execution_count": 59,
   "metadata": {
    "scrolled": true
   },
   "outputs": [
    {
     "ename": "FileNotFoundError",
     "evalue": "[Errno 2] No such file or directory: 'C:\\\\Users\\\\user\\\\Documents\\\\GitHub\\\\data\\\\original_Data\\\\EID42168_20140101.xml.gz'",
     "output_type": "error",
     "traceback": [
      "\u001b[1;31m---------------------------------------------------------------------------\u001b[0m",
      "\u001b[1;31mFileNotFoundError\u001b[0m                         Traceback (most recent call last)",
      "\u001b[1;32m<ipython-input-59-d22afebd4b78>\u001b[0m in \u001b[0;36m<module>\u001b[1;34m()\u001b[0m\n\u001b[0;32m      1\u001b[0m \u001b[1;31m# dataフォルダ配下の全ファイルを取得\u001b[0m\u001b[1;33m\u001b[0m\u001b[1;33m\u001b[0m\u001b[0m\n\u001b[0;32m      2\u001b[0m \u001b[1;32mfor\u001b[0m \u001b[0mi\u001b[0m \u001b[1;32min\u001b[0m \u001b[0mrange\u001b[0m\u001b[1;33m(\u001b[0m\u001b[1;36m0\u001b[0m\u001b[1;33m,\u001b[0m\u001b[0mlen\u001b[0m\u001b[1;33m(\u001b[0m\u001b[0mfiles\u001b[0m\u001b[1;33m)\u001b[0m\u001b[1;33m)\u001b[0m\u001b[1;33m:\u001b[0m\u001b[1;33m\u001b[0m\u001b[0m\n\u001b[1;32m----> 3\u001b[1;33m     \u001b[0mmy_convertToCSV\u001b[0m\u001b[1;33m(\u001b[0m\u001b[0mfiles\u001b[0m\u001b[1;33m[\u001b[0m\u001b[0mi\u001b[0m\u001b[1;33m]\u001b[0m\u001b[1;33m)\u001b[0m\u001b[1;33m\u001b[0m\u001b[0m\n\u001b[0m",
      "\u001b[1;32m<ipython-input-55-cb3e298e38e6>\u001b[0m in \u001b[0;36mmy_convertToCSV\u001b[1;34m(file_name)\u001b[0m\n\u001b[0;32m      4\u001b[0m \u001b[1;33m\u001b[0m\u001b[0m\n\u001b[0;32m      5\u001b[0m     \u001b[1;31m# 引数として渡されたtar.gzファイルを解凍し、オープン\u001b[0m\u001b[1;33m\u001b[0m\u001b[1;33m\u001b[0m\u001b[0m\n\u001b[1;32m----> 6\u001b[1;33m     \u001b[0mf\u001b[0m \u001b[1;33m=\u001b[0m \u001b[0mgzip\u001b[0m\u001b[1;33m.\u001b[0m\u001b[0mopen\u001b[0m\u001b[1;33m(\u001b[0m\u001b[0mos\u001b[0m\u001b[1;33m.\u001b[0m\u001b[0mpath\u001b[0m\u001b[1;33m.\u001b[0m\u001b[0mjoin\u001b[0m\u001b[1;33m(\u001b[0m\u001b[0mDATA_DIR\u001b[0m\u001b[1;33m,\u001b[0m\u001b[1;34m'original_Data'\u001b[0m\u001b[1;33m,\u001b[0m\u001b[0mfile_name\u001b[0m\u001b[1;33m)\u001b[0m\u001b[1;33m,\u001b[0m \u001b[1;34m'r'\u001b[0m\u001b[1;33m)\u001b[0m\u001b[1;33m\u001b[0m\u001b[0m\n\u001b[0m\u001b[0;32m      7\u001b[0m \u001b[1;33m\u001b[0m\u001b[0m\n\u001b[0;32m      8\u001b[0m     \u001b[1;31m# CSVファイルのカラムに対応する配列を初期化\u001b[0m\u001b[1;33m\u001b[0m\u001b[1;33m\u001b[0m\u001b[0m\n",
      "\u001b[1;32mC:\\Users\\user\\Anaconda3\\lib\\gzip.py\u001b[0m in \u001b[0;36mopen\u001b[1;34m(filename, mode, compresslevel, encoding, errors, newline)\u001b[0m\n\u001b[0;32m     51\u001b[0m     \u001b[0mgz_mode\u001b[0m \u001b[1;33m=\u001b[0m \u001b[0mmode\u001b[0m\u001b[1;33m.\u001b[0m\u001b[0mreplace\u001b[0m\u001b[1;33m(\u001b[0m\u001b[1;34m\"t\"\u001b[0m\u001b[1;33m,\u001b[0m \u001b[1;34m\"\"\u001b[0m\u001b[1;33m)\u001b[0m\u001b[1;33m\u001b[0m\u001b[0m\n\u001b[0;32m     52\u001b[0m     \u001b[1;32mif\u001b[0m \u001b[0misinstance\u001b[0m\u001b[1;33m(\u001b[0m\u001b[0mfilename\u001b[0m\u001b[1;33m,\u001b[0m \u001b[1;33m(\u001b[0m\u001b[0mstr\u001b[0m\u001b[1;33m,\u001b[0m \u001b[0mbytes\u001b[0m\u001b[1;33m,\u001b[0m \u001b[0mos\u001b[0m\u001b[1;33m.\u001b[0m\u001b[0mPathLike\u001b[0m\u001b[1;33m)\u001b[0m\u001b[1;33m)\u001b[0m\u001b[1;33m:\u001b[0m\u001b[1;33m\u001b[0m\u001b[0m\n\u001b[1;32m---> 53\u001b[1;33m         \u001b[0mbinary_file\u001b[0m \u001b[1;33m=\u001b[0m \u001b[0mGzipFile\u001b[0m\u001b[1;33m(\u001b[0m\u001b[0mfilename\u001b[0m\u001b[1;33m,\u001b[0m \u001b[0mgz_mode\u001b[0m\u001b[1;33m,\u001b[0m \u001b[0mcompresslevel\u001b[0m\u001b[1;33m)\u001b[0m\u001b[1;33m\u001b[0m\u001b[0m\n\u001b[0m\u001b[0;32m     54\u001b[0m     \u001b[1;32melif\u001b[0m \u001b[0mhasattr\u001b[0m\u001b[1;33m(\u001b[0m\u001b[0mfilename\u001b[0m\u001b[1;33m,\u001b[0m \u001b[1;34m\"read\"\u001b[0m\u001b[1;33m)\u001b[0m \u001b[1;32mor\u001b[0m \u001b[0mhasattr\u001b[0m\u001b[1;33m(\u001b[0m\u001b[0mfilename\u001b[0m\u001b[1;33m,\u001b[0m \u001b[1;34m\"write\"\u001b[0m\u001b[1;33m)\u001b[0m\u001b[1;33m:\u001b[0m\u001b[1;33m\u001b[0m\u001b[0m\n\u001b[0;32m     55\u001b[0m         \u001b[0mbinary_file\u001b[0m \u001b[1;33m=\u001b[0m \u001b[0mGzipFile\u001b[0m\u001b[1;33m(\u001b[0m\u001b[1;32mNone\u001b[0m\u001b[1;33m,\u001b[0m \u001b[0mgz_mode\u001b[0m\u001b[1;33m,\u001b[0m \u001b[0mcompresslevel\u001b[0m\u001b[1;33m,\u001b[0m \u001b[0mfilename\u001b[0m\u001b[1;33m)\u001b[0m\u001b[1;33m\u001b[0m\u001b[0m\n",
      "\u001b[1;32mC:\\Users\\user\\Anaconda3\\lib\\gzip.py\u001b[0m in \u001b[0;36m__init__\u001b[1;34m(self, filename, mode, compresslevel, fileobj, mtime)\u001b[0m\n\u001b[0;32m    161\u001b[0m             \u001b[0mmode\u001b[0m \u001b[1;33m+=\u001b[0m \u001b[1;34m'b'\u001b[0m\u001b[1;33m\u001b[0m\u001b[0m\n\u001b[0;32m    162\u001b[0m         \u001b[1;32mif\u001b[0m \u001b[0mfileobj\u001b[0m \u001b[1;32mis\u001b[0m \u001b[1;32mNone\u001b[0m\u001b[1;33m:\u001b[0m\u001b[1;33m\u001b[0m\u001b[0m\n\u001b[1;32m--> 163\u001b[1;33m             \u001b[0mfileobj\u001b[0m \u001b[1;33m=\u001b[0m \u001b[0mself\u001b[0m\u001b[1;33m.\u001b[0m\u001b[0mmyfileobj\u001b[0m \u001b[1;33m=\u001b[0m \u001b[0mbuiltins\u001b[0m\u001b[1;33m.\u001b[0m\u001b[0mopen\u001b[0m\u001b[1;33m(\u001b[0m\u001b[0mfilename\u001b[0m\u001b[1;33m,\u001b[0m \u001b[0mmode\u001b[0m \u001b[1;32mor\u001b[0m \u001b[1;34m'rb'\u001b[0m\u001b[1;33m)\u001b[0m\u001b[1;33m\u001b[0m\u001b[0m\n\u001b[0m\u001b[0;32m    164\u001b[0m         \u001b[1;32mif\u001b[0m \u001b[0mfilename\u001b[0m \u001b[1;32mis\u001b[0m \u001b[1;32mNone\u001b[0m\u001b[1;33m:\u001b[0m\u001b[1;33m\u001b[0m\u001b[0m\n\u001b[0;32m    165\u001b[0m             \u001b[0mfilename\u001b[0m \u001b[1;33m=\u001b[0m \u001b[0mgetattr\u001b[0m\u001b[1;33m(\u001b[0m\u001b[0mfileobj\u001b[0m\u001b[1;33m,\u001b[0m \u001b[1;34m'name'\u001b[0m\u001b[1;33m,\u001b[0m \u001b[1;34m''\u001b[0m\u001b[1;33m)\u001b[0m\u001b[1;33m\u001b[0m\u001b[0m\n",
      "\u001b[1;31mFileNotFoundError\u001b[0m: [Errno 2] No such file or directory: 'C:\\\\Users\\\\user\\\\Documents\\\\GitHub\\\\data\\\\original_Data\\\\EID42168_20140101.xml.gz'"
     ]
    }
   ],
   "source": [
    "# dataフォルダ配下の全ファイルを取得\n",
    "for i in range(0,len(files)):\n",
    "    my_convertToCSV(files[i])"
   ]
  },
  {
   "cell_type": "code",
   "execution_count": null,
   "metadata": {
    "collapsed": true
   },
   "outputs": [],
   "source": []
  },
  {
   "cell_type": "code",
   "execution_count": null,
   "metadata": {
    "collapsed": true
   },
   "outputs": [],
   "source": []
  },
  {
   "cell_type": "code",
   "execution_count": 16,
   "metadata": {},
   "outputs": [
    {
     "data": {
      "text/plain": [
       "'C:\\\\Users\\\\user\\\\Documents\\\\GitHub\\\\data'"
      ]
     },
     "execution_count": 16,
     "metadata": {},
     "output_type": "execute_result"
    }
   ],
   "source": [
    "os.path.join(DATA_DIR)"
   ]
  },
  {
   "cell_type": "code",
   "execution_count": 51,
   "metadata": {},
   "outputs": [
    {
     "name": "stdout",
     "output_type": "stream",
     "text": [
      "EID42168_20140105.xml.gz\n"
     ]
    }
   ],
   "source": [
    "print(files[4])\n",
    "file_name = files[4]\n",
    "#hoge = pd.read_csv(os.path.join(DATA_DIR,'EID42186/csv/2014',file_name.replace(\".xml.gz\",\".csv\")))\n",
    "hoge = pd.read_csv(os.path.join(DATA_DIR,'EID42186/myCsv',file_name.replace(\".xml.gz\",\".csv\")), )#.drop(['Id', 'TimeOfArrival'],axis=1)"
   ]
  },
  {
   "cell_type": "code",
   "execution_count": 53,
   "metadata": {},
   "outputs": [
    {
     "data": {
      "text/html": [
       "<div>\n",
       "<style>\n",
       "    .dataframe thead tr:only-child th {\n",
       "        text-align: right;\n",
       "    }\n",
       "\n",
       "    .dataframe thead th {\n",
       "        text-align: left;\n",
       "    }\n",
       "\n",
       "    .dataframe tbody tr th {\n",
       "        vertical-align: top;\n",
       "    }\n",
       "</style>\n",
       "<table border=\"1\" class=\"dataframe\">\n",
       "  <thead>\n",
       "    <tr style=\"text-align: right;\">\n",
       "      <th></th>\n",
       "      <th>Id</th>\n",
       "      <th>Headline</th>\n",
       "      <th>Body</th>\n",
       "      <th>TimeOfArrival</th>\n",
       "    </tr>\n",
       "  </thead>\n",
       "  <tbody>\n",
       "    <tr>\n",
       "      <th>0</th>\n",
       "      <td>MYWIMF6K50XT</td>\n",
       "      <td>【主要朝刊】米新車販売が４年連続最高、有楽町火災はショート原因か</td>\n",
       "      <td>\\n【記者：日高正裕】\\n　　１月５日（ブルームバーグ）：　　各紙朝刊の主なニュースは以下\\...</td>\n",
       "      <td>2014-01-04T23:59:03.341+00:00</td>\n",
       "    </tr>\n",
       "    <tr>\n",
       "      <th>6</th>\n",
       "      <td>MYWVCI6K50XS</td>\n",
       "      <td>米倉経団連会長、年間通じたプラス成長は維持できる見通し－毎日</td>\n",
       "      <td>\\n【記者：崎浜秀磨】\\n　　１月５日（ブルームバーグ）：　　毎日新聞がインタビューの内容\\...</td>\n",
       "      <td>2014-01-05T04:33:54.371+00:00</td>\n",
       "    </tr>\n",
       "    <tr>\n",
       "      <th>8</th>\n",
       "      <td>MYLYHS6TTDTJ</td>\n",
       "      <td>13年の上昇率１位は日トリム、下落はジーンズ－東証１部</td>\n",
       "      <td>\\n【記者：鷺池秀樹】\\n　　12月30日（ブルームバーグ）：　　ＴＯＰＩＸは年間で51％上...</td>\n",
       "      <td>2013-12-30T07:08:16.741+00:00</td>\n",
       "    </tr>\n",
       "    <tr>\n",
       "      <th>9</th>\n",
       "      <td>MYNC7M6KLVR8</td>\n",
       "      <td>マルニチＨ：製造工程上で汚染された可能性低いと群馬県－農薬検出</td>\n",
       "      <td>\\n【記者：河元伸吾】\\n　　12月31日（ブルームバーグ）：　　子会社アクリフーズ群馬工場...</td>\n",
       "      <td>2013-12-31T01:02:10.647+00:00</td>\n",
       "    </tr>\n",
       "    <tr>\n",
       "      <th>10</th>\n",
       "      <td>MYLWTA6TTDS6</td>\n",
       "      <td>安倍首相：来年もアベノミクスは買いです</td>\n",
       "      <td>\\n【記者：広川高史】\\n　　12月30日（ブルームバーグ）：　　日本取引所グループの大納会...</td>\n",
       "      <td>2013-12-30T06:31:58.410+00:00</td>\n",
       "    </tr>\n",
       "  </tbody>\n",
       "</table>\n",
       "</div>"
      ],
      "text/plain": [
       "              Id                          Headline  \\\n",
       "0   MYWIMF6K50XT  【主要朝刊】米新車販売が４年連続最高、有楽町火災はショート原因か   \n",
       "6   MYWVCI6K50XS    米倉経団連会長、年間通じたプラス成長は維持できる見通し－毎日   \n",
       "8   MYLYHS6TTDTJ       13年の上昇率１位は日トリム、下落はジーンズ－東証１部   \n",
       "9   MYNC7M6KLVR8   マルニチＨ：製造工程上で汚染された可能性低いと群馬県－農薬検出   \n",
       "10  MYLWTA6TTDS6               安倍首相：来年もアベノミクスは買いです   \n",
       "\n",
       "                                                 Body  \\\n",
       "0   \\n【記者：日高正裕】\\n　　１月５日（ブルームバーグ）：　　各紙朝刊の主なニュースは以下\\...   \n",
       "6   \\n【記者：崎浜秀磨】\\n　　１月５日（ブルームバーグ）：　　毎日新聞がインタビューの内容\\...   \n",
       "8   \\n【記者：鷺池秀樹】\\n　　12月30日（ブルームバーグ）：　　ＴＯＰＩＸは年間で51％上...   \n",
       "9   \\n【記者：河元伸吾】\\n　　12月31日（ブルームバーグ）：　　子会社アクリフーズ群馬工場...   \n",
       "10  \\n【記者：広川高史】\\n　　12月30日（ブルームバーグ）：　　日本取引所グループの大納会...   \n",
       "\n",
       "                    TimeOfArrival  \n",
       "0   2014-01-04T23:59:03.341+00:00  \n",
       "6   2014-01-05T04:33:54.371+00:00  \n",
       "8   2013-12-30T07:08:16.741+00:00  \n",
       "9   2013-12-31T01:02:10.647+00:00  \n",
       "10  2013-12-30T06:31:58.410+00:00  "
      ]
     },
     "execution_count": 53,
     "metadata": {},
     "output_type": "execute_result"
    }
   ],
   "source": [
    "hoge.drop_duplicates('Id').head()"
   ]
  },
  {
   "cell_type": "code",
   "execution_count": null,
   "metadata": {
    "collapsed": true
   },
   "outputs": [],
   "source": [
    "df = df[(df[2]=='JAPANESE') & (df[0].str.contains('：'))]"
   ]
  },
  {
   "cell_type": "code",
   "execution_count": null,
   "metadata": {
    "collapsed": true
   },
   "outputs": [],
   "source": []
  },
  {
   "cell_type": "code",
   "execution_count": null,
   "metadata": {
    "collapsed": true
   },
   "outputs": [],
   "source": []
  },
  {
   "cell_type": "code",
   "execution_count": null,
   "metadata": {
    "collapsed": true
   },
   "outputs": [],
   "source": []
  },
  {
   "cell_type": "code",
   "execution_count": null,
   "metadata": {
    "collapsed": true
   },
   "outputs": [],
   "source": []
  },
  {
   "cell_type": "code",
   "execution_count": null,
   "metadata": {
    "collapsed": true
   },
   "outputs": [],
   "source": []
  },
  {
   "cell_type": "code",
   "execution_count": null,
   "metadata": {
    "collapsed": true
   },
   "outputs": [],
   "source": []
  },
  {
   "cell_type": "code",
   "execution_count": null,
   "metadata": {
    "collapsed": true
   },
   "outputs": [],
   "source": []
  },
  {
   "cell_type": "code",
   "execution_count": null,
   "metadata": {
    "collapsed": true
   },
   "outputs": [],
   "source": []
  },
  {
   "cell_type": "code",
   "execution_count": null,
   "metadata": {
    "collapsed": true
   },
   "outputs": [],
   "source": []
  },
  {
   "cell_type": "code",
   "execution_count": null,
   "metadata": {
    "collapsed": true
   },
   "outputs": [],
   "source": []
  },
  {
   "cell_type": "code",
   "execution_count": null,
   "metadata": {
    "collapsed": true
   },
   "outputs": [],
   "source": []
  },
  {
   "cell_type": "code",
   "execution_count": null,
   "metadata": {
    "collapsed": true
   },
   "outputs": [],
   "source": []
  },
  {
   "cell_type": "code",
   "execution_count": null,
   "metadata": {
    "collapsed": true
   },
   "outputs": [],
   "source": []
  },
  {
   "cell_type": "code",
   "execution_count": null,
   "metadata": {
    "collapsed": true
   },
   "outputs": [],
   "source": []
  },
  {
   "cell_type": "code",
   "execution_count": null,
   "metadata": {
    "collapsed": true
   },
   "outputs": [],
   "source": []
  },
  {
   "cell_type": "code",
   "execution_count": null,
   "metadata": {
    "collapsed": true
   },
   "outputs": [],
   "source": []
  },
  {
   "cell_type": "code",
   "execution_count": null,
   "metadata": {
    "collapsed": true
   },
   "outputs": [],
   "source": []
  },
  {
   "cell_type": "code",
   "execution_count": 15,
   "metadata": {
    "collapsed": true,
    "scrolled": false
   },
   "outputs": [],
   "source": [
    "# data解析　実験\n",
    "from janome.tokenizer import Tokenizer\n",
    "file_name = files[1]\n",
    "hoge = pd.read_csv(os.path.join(DATA_DIR,'csvData1',file_name.replace(\".xml.gz\",\".csv\")))\n",
    "headlines = hoge['Headline']"
   ]
  },
  {
   "cell_type": "code",
   "execution_count": 83,
   "metadata": {},
   "outputs": [
    {
     "name": "stdout",
     "output_type": "stream",
     "text": [
      "安倍\t名詞,固有名詞,人名,姓,*,*,安倍,アベ,アベ\n",
      "晋\t名詞,固有名詞,人名,名,*,*,晋,ススム,ススム\n",
      "麻生\t名詞,固有名詞,人名,姓,*,*,麻生,アソウ,アソー\n",
      "太郎\t名詞,固有名詞,人名,名,*,*,太郎,タロウ,タロー\n",
      "中島\t名詞,固有名詞,人名,姓,*,*,中島,ナカジマ,ナカジマ\n",
      "悠太\t名詞,固有名詞,人名,名,*,*,悠太,ユウタ,ユータ\n",
      "ドナルド\t名詞,固有名詞,人名,名,*,*,ドナルド,ドナルド,ドナルド\n"
     ]
    }
   ],
   "source": [
    "# 使い方リマインド\n",
    "t = Tokenizer()\n",
    "#tokens = t.tokenize(headlines[0])\n",
    "tokens = t.tokenize('安倍晋三首相と、麻生太郎副総理兼財務相が、新たな「密約」を結んだという情報が飛び込んできた。中島悠太郎とドナルド・トランプは眠い')\n",
    "for token in tokens:\n",
    "    #print(token)\n",
    "    #if (token.part_of_speech.split(',')[0]=='名詞'):\n",
    "    if (token.part_of_speech.split(',')[2]=='人名'):\n",
    "        print(token)\n",
    "        #and token.part_of_speech.split(',')[1]=='固有名詞'):\n",
    "        "
   ]
  },
  {
   "cell_type": "code",
   "execution_count": 65,
   "metadata": {
    "collapsed": true
   },
   "outputs": [],
   "source": [
    "file_name = files[1]\n",
    "hoge = pd.read_csv(os.path.join(DATA_DIR,'csvData1',file_name.replace(\".xml.gz\",\".csv\"))).drop(['Id', 'Body', 'TimeOfArrival'],axis=1)"
   ]
  },
  {
   "cell_type": "code",
   "execution_count": 76,
   "metadata": {},
   "outputs": [
    {
     "data": {
      "text/plain": [
       "927"
      ]
     },
     "execution_count": 76,
     "metadata": {},
     "output_type": "execute_result"
    }
   ],
   "source": [
    "hoge.shape[0]"
   ]
  },
  {
   "cell_type": "code",
   "execution_count": 66,
   "metadata": {
    "scrolled": true
   },
   "outputs": [
    {
     "data": {
      "text/html": [
       "<div>\n",
       "<style>\n",
       "    .dataframe thead tr:only-child th {\n",
       "        text-align: right;\n",
       "    }\n",
       "\n",
       "    .dataframe thead th {\n",
       "        text-align: left;\n",
       "    }\n",
       "\n",
       "    .dataframe tbody tr th {\n",
       "        vertical-align: top;\n",
       "    }\n",
       "</style>\n",
       "<table border=\"1\" class=\"dataframe\">\n",
       "  <thead>\n",
       "    <tr style=\"text-align: right;\">\n",
       "      <th></th>\n",
       "      <th>Headline</th>\n",
       "    </tr>\n",
       "  </thead>\n",
       "  <tbody>\n",
       "    <tr>\n",
       "      <th>0</th>\n",
       "      <td>ＥＣＢのギリシャの銀行への緊急支援拡大にドイツが反対－ロイター</td>\n",
       "    </tr>\n",
       "    <tr>\n",
       "      <th>1</th>\n",
       "      <td>ＥＣＢのギリシャの銀行への緊急支援拡大にドイツが反対－ロイター</td>\n",
       "    </tr>\n",
       "    <tr>\n",
       "      <th>2</th>\n",
       "      <td>*日経平均始値は0.6％高の18103円98銭、ＴＯＰＩＸ0.8％高の1473.84</td>\n",
       "    </tr>\n",
       "    <tr>\n",
       "      <th>3</th>\n",
       "      <td>日本郵政グループは豪トール買収で合意－１株9.04豪ドルで</td>\n",
       "    </tr>\n",
       "    <tr>\n",
       "      <th>4</th>\n",
       "      <td>*ブリヂストン株が買い気配</td>\n",
       "    </tr>\n",
       "  </tbody>\n",
       "</table>\n",
       "</div>"
      ],
      "text/plain": [
       "                                     Headline\n",
       "0             ＥＣＢのギリシャの銀行への緊急支援拡大にドイツが反対－ロイター\n",
       "1             ＥＣＢのギリシャの銀行への緊急支援拡大にドイツが反対－ロイター\n",
       "2  *日経平均始値は0.6％高の18103円98銭、ＴＯＰＩＸ0.8％高の1473.84\n",
       "3               日本郵政グループは豪トール買収で合意－１株9.04豪ドルで\n",
       "4                               *ブリヂストン株が買い気配"
      ]
     },
     "execution_count": 66,
     "metadata": {},
     "output_type": "execute_result"
    }
   ],
   "source": [
    "hoge.head()"
   ]
  },
  {
   "cell_type": "code",
   "execution_count": 79,
   "metadata": {},
   "outputs": [
    {
     "name": "stdout",
     "output_type": "stream",
     "text": [
      "始\t名詞,固有名詞,人名,名,*,*,始,ハジメ,ハジメ\n",
      "トール\t名詞,固有名詞,人名,姓,*,*,トール,トール,トール\n",
      "モルガン\t名詞,固有名詞,人名,姓,*,*,モルガン,モルガン,モルガン\n",
      "モルガン\t名詞,固有名詞,人名,姓,*,*,モルガン,モルガン,モルガン\n",
      "小林\t名詞,固有名詞,人名,姓,*,*,小林,コバヤシ,コバヤシ\n",
      "モルガン\t名詞,固有名詞,人名,姓,*,*,モルガン,モルガン,モルガン\n",
      "モルガン\t名詞,固有名詞,人名,姓,*,*,モルガン,モルガン,モルガン\n",
      "モルガン\t名詞,固有名詞,人名,姓,*,*,モルガン,モルガン,モルガン\n",
      "黒田\t名詞,固有名詞,人名,姓,*,*,黒田,クロダ,クロダ\n",
      "モルガン\t名詞,固有名詞,人名,姓,*,*,モルガン,モルガン,モルガン\n",
      "黒田\t名詞,固有名詞,人名,姓,*,*,黒田,クロダ,クロダ\n",
      "上田\t名詞,固有名詞,人名,姓,*,*,上田,ウエダ,ウエダ\n",
      "モルガン\t名詞,固有名詞,人名,姓,*,*,モルガン,モルガン,モルガン\n",
      "モルガン\t名詞,固有名詞,人名,姓,*,*,モルガン,モルガン,モルガン\n",
      "上田\t名詞,固有名詞,人名,姓,*,*,上田,ウエダ,ウエダ\n",
      "黒田\t名詞,固有名詞,人名,姓,*,*,黒田,クロダ,クロダ\n",
      "モルガン\t名詞,固有名詞,人名,姓,*,*,モルガン,モルガン,モルガン\n",
      "モルガン\t名詞,固有名詞,人名,姓,*,*,モルガン,モルガン,モルガン\n",
      "上田\t名詞,固有名詞,人名,姓,*,*,上田,ウエダ,ウエダ\n",
      "モルガン\t名詞,固有名詞,人名,姓,*,*,モルガン,モルガン,モルガン\n",
      "モルガン\t名詞,固有名詞,人名,姓,*,*,モルガン,モルガン,モルガン\n",
      "上田\t名詞,固有名詞,人名,姓,*,*,上田,ウエダ,ウエダ\n",
      "黒田\t名詞,固有名詞,人名,姓,*,*,黒田,クロダ,クロダ\n",
      "野村\t名詞,固有名詞,人名,姓,*,*,野村,ノムラ,ノムラ\n",
      "堀場\t名詞,固有名詞,人名,姓,*,*,堀場,ホリバ,ホリバ\n",
      "野村\t名詞,固有名詞,人名,姓,*,*,野村,ノムラ,ノムラ\n",
      "モルガン\t名詞,固有名詞,人名,姓,*,*,モルガン,モルガン,モルガン\n",
      "モルガン\t名詞,固有名詞,人名,姓,*,*,モルガン,モルガン,モルガン\n",
      "上田\t名詞,固有名詞,人名,姓,*,*,上田,ウエダ,ウエダ\n",
      "モルガン\t名詞,固有名詞,人名,姓,*,*,モルガン,モルガン,モルガン\n",
      "モルガン\t名詞,固有名詞,人名,姓,*,*,モルガン,モルガン,モルガン\n",
      "上田\t名詞,固有名詞,人名,姓,*,*,上田,ウエダ,ウエダ\n",
      "堀場\t名詞,固有名詞,人名,姓,*,*,堀場,ホリバ,ホリバ\n",
      "モルガン\t名詞,固有名詞,人名,姓,*,*,モルガン,モルガン,モルガン\n",
      "モルガン\t名詞,固有名詞,人名,姓,*,*,モルガン,モルガン,モルガン\n",
      "上田\t名詞,固有名詞,人名,姓,*,*,上田,ウエダ,ウエダ\n",
      "黒田\t名詞,固有名詞,人名,姓,*,*,黒田,クロダ,クロダ\n",
      "モルガン\t名詞,固有名詞,人名,姓,*,*,モルガン,モルガン,モルガン\n",
      "モルガン\t名詞,固有名詞,人名,姓,*,*,モルガン,モルガン,モルガン\n",
      "上田\t名詞,固有名詞,人名,姓,*,*,上田,ウエダ,ウエダ\n",
      "黒田\t名詞,固有名詞,人名,姓,*,*,黒田,クロダ,クロダ\n",
      "上田\t名詞,固有名詞,人名,姓,*,*,上田,ウエダ,ウエダ\n",
      "モルガン\t名詞,固有名詞,人名,姓,*,*,モルガン,モルガン,モルガン\n",
      "モルガン\t名詞,固有名詞,人名,姓,*,*,モルガン,モルガン,モルガン\n",
      "黒田\t名詞,固有名詞,人名,姓,*,*,黒田,クロダ,クロダ\n",
      "黒田\t名詞,固有名詞,人名,姓,*,*,黒田,クロダ,クロダ\n",
      "黒田\t名詞,固有名詞,人名,姓,*,*,黒田,クロダ,クロダ\n",
      "堀場\t名詞,固有名詞,人名,姓,*,*,堀場,ホリバ,ホリバ\n",
      "小林\t名詞,固有名詞,人名,姓,*,*,小林,コバヤシ,コバヤシ\n",
      "堀場\t名詞,固有名詞,人名,姓,*,*,堀場,ホリバ,ホリバ\n",
      "小林\t名詞,固有名詞,人名,姓,*,*,小林,コバヤシ,コバヤシ\n",
      "ルー\t名詞,固有名詞,人名,姓,*,*,ルー,ルー,ルー\n",
      "トール\t名詞,固有名詞,人名,姓,*,*,トール,トール,トール\n",
      "フィッシャー\t名詞,固有名詞,人名,姓,*,*,フィッシャー,フィッシャー,フィッシャー\n",
      "安倍\t名詞,固有名詞,人名,姓,*,*,安倍,アベ,アベ\n",
      "トール\t名詞,固有名詞,人名,姓,*,*,トール,トール,トール\n",
      "モルガン\t名詞,固有名詞,人名,姓,*,*,モルガン,モルガン,モルガン\n",
      "上田\t名詞,固有名詞,人名,姓,*,*,上田,ウエダ,ウエダ\n",
      "モルガン\t名詞,固有名詞,人名,姓,*,*,モルガン,モルガン,モルガン\n",
      "モルガン\t名詞,固有名詞,人名,姓,*,*,モルガン,モルガン,モルガン\n",
      "トール\t名詞,固有名詞,人名,姓,*,*,トール,トール,トール\n",
      "モルガン\t名詞,固有名詞,人名,姓,*,*,モルガン,モルガン,モルガン\n",
      "上田\t名詞,固有名詞,人名,姓,*,*,上田,ウエダ,ウエダ\n",
      "黒田\t名詞,固有名詞,人名,姓,*,*,黒田,クロダ,クロダ\n",
      "三村\t名詞,固有名詞,人名,姓,*,*,三村,ミツムラ,ミツムラ\n",
      "三村\t名詞,固有名詞,人名,姓,*,*,三村,ミツムラ,ミツムラ\n",
      "三村\t名詞,固有名詞,人名,姓,*,*,三村,ミツムラ,ミツムラ\n",
      "黒田\t名詞,固有名詞,人名,姓,*,*,黒田,クロダ,クロダ\n",
      "トール\t名詞,固有名詞,人名,姓,*,*,トール,トール,トール\n",
      "木内\t名詞,固有名詞,人名,姓,*,*,木内,キウチ,キウチ\n",
      "堀場\t名詞,固有名詞,人名,姓,*,*,堀場,ホリバ,ホリバ\n",
      "小林\t名詞,固有名詞,人名,姓,*,*,小林,コバヤシ,コバヤシ\n",
      "木内\t名詞,固有名詞,人名,姓,*,*,木内,キウチ,キウチ\n",
      "木内\t名詞,固有名詞,人名,姓,*,*,木内,キウチ,キウチ\n",
      "トール\t名詞,固有名詞,人名,姓,*,*,トール,トール,トール\n",
      "黒田\t名詞,固有名詞,人名,姓,*,*,黒田,クロダ,クロダ\n",
      "トール\t名詞,固有名詞,人名,姓,*,*,トール,トール,トール\n",
      "黒田\t名詞,固有名詞,人名,姓,*,*,黒田,クロダ,クロダ\n",
      "トール\t名詞,固有名詞,人名,姓,*,*,トール,トール,トール\n",
      "モルガン\t名詞,固有名詞,人名,姓,*,*,モルガン,モルガン,モルガン\n",
      "黒田\t名詞,固有名詞,人名,姓,*,*,黒田,クロダ,クロダ\n",
      "上田\t名詞,固有名詞,人名,姓,*,*,上田,ウエダ,ウエダ\n",
      "モルガン\t名詞,固有名詞,人名,姓,*,*,モルガン,モルガン,モルガン\n",
      "モルガン\t名詞,固有名詞,人名,姓,*,*,モルガン,モルガン,モルガン\n",
      "黒田\t名詞,固有名詞,人名,姓,*,*,黒田,クロダ,クロダ\n",
      "モルガン\t名詞,固有名詞,人名,姓,*,*,モルガン,モルガン,モルガン\n",
      "上田\t名詞,固有名詞,人名,姓,*,*,上田,ウエダ,ウエダ\n",
      "木内\t名詞,固有名詞,人名,姓,*,*,木内,キウチ,キウチ\n",
      "フォックス\t名詞,固有名詞,人名,姓,*,*,フォックス,フォックス,フォックス\n",
      "堀場\t名詞,固有名詞,人名,姓,*,*,堀場,ホリバ,ホリバ\n",
      "堀場\t名詞,固有名詞,人名,姓,*,*,堀場,ホリバ,ホリバ\n",
      "建\t名詞,固有名詞,人名,姓,*,*,建,タテ,タテ\n",
      "トール\t名詞,固有名詞,人名,姓,*,*,トール,トール,トール\n",
      "トール\t名詞,固有名詞,人名,姓,*,*,トール,トール,トール\n",
      "黒田\t名詞,固有名詞,人名,姓,*,*,黒田,クロダ,クロダ\n",
      "黒田\t名詞,固有名詞,人名,姓,*,*,黒田,クロダ,クロダ\n",
      "黒田\t名詞,固有名詞,人名,姓,*,*,黒田,クロダ,クロダ\n",
      "黒田\t名詞,固有名詞,人名,姓,*,*,黒田,クロダ,クロダ\n",
      "黒田\t名詞,固有名詞,人名,姓,*,*,黒田,クロダ,クロダ\n",
      "黒田\t名詞,固有名詞,人名,姓,*,*,黒田,クロダ,クロダ\n",
      "モルガン\t名詞,固有名詞,人名,姓,*,*,モルガン,モルガン,モルガン\n",
      "上田\t名詞,固有名詞,人名,姓,*,*,上田,ウエダ,ウエダ\n",
      "モルガン\t名詞,固有名詞,人名,姓,*,*,モルガン,モルガン,モルガン\n",
      "モルガン\t名詞,固有名詞,人名,姓,*,*,モルガン,モルガン,モルガン\n",
      "黒田\t名詞,固有名詞,人名,姓,*,*,黒田,クロダ,クロダ\n",
      "モルガン\t名詞,固有名詞,人名,姓,*,*,モルガン,モルガン,モルガン\n",
      "上田\t名詞,固有名詞,人名,姓,*,*,上田,ウエダ,ウエダ\n",
      "黒田\t名詞,固有名詞,人名,姓,*,*,黒田,クロダ,クロダ\n",
      "黒田\t名詞,固有名詞,人名,姓,*,*,黒田,クロダ,クロダ\n",
      "安倍\t名詞,固有名詞,人名,姓,*,*,安倍,アベ,アベ\n",
      "安倍\t名詞,固有名詞,人名,姓,*,*,安倍,アベ,アベ\n",
      "黒田\t名詞,固有名詞,人名,姓,*,*,黒田,クロダ,クロダ\n",
      "モルガン\t名詞,固有名詞,人名,姓,*,*,モルガン,モルガン,モルガン\n",
      "モルガン\t名詞,固有名詞,人名,姓,*,*,モルガン,モルガン,モルガン\n",
      "上田\t名詞,固有名詞,人名,姓,*,*,上田,ウエダ,ウエダ\n",
      "黒田\t名詞,固有名詞,人名,姓,*,*,黒田,クロダ,クロダ\n",
      "モルガン\t名詞,固有名詞,人名,姓,*,*,モルガン,モルガン,モルガン\n",
      "モルガン\t名詞,固有名詞,人名,姓,*,*,モルガン,モルガン,モルガン\n",
      "上田\t名詞,固有名詞,人名,姓,*,*,上田,ウエダ,ウエダ\n",
      "吉田\t名詞,固有名詞,人名,姓,*,*,吉田,ヨシダ,ヨシダ\n",
      "憲一郎\t名詞,固有名詞,人名,名,*,*,憲一郎,ケンイチロウ,ケンイチロー\n",
      "氏\t名詞,接尾,人名,*,*,*,氏,シ,シ\n",
      "ユニ\t名詞,固有名詞,人名,一般,*,*,ユニ,ユニ,ユニ\n",
      "安倍\t名詞,固有名詞,人名,姓,*,*,安倍,アベ,アベ\n",
      "吉田\t名詞,固有名詞,人名,姓,*,*,吉田,ヨシダ,ヨシダ\n",
      "憲一郎\t名詞,固有名詞,人名,名,*,*,憲一郎,ケンイチロウ,ケンイチロー\n",
      "氏\t名詞,接尾,人名,*,*,*,氏,シ,シ\n",
      "トール\t名詞,固有名詞,人名,姓,*,*,トール,トール,トール\n",
      "トール\t名詞,固有名詞,人名,姓,*,*,トール,トール,トール\n",
      "黒田\t名詞,固有名詞,人名,姓,*,*,黒田,クロダ,クロダ\n",
      "野村\t名詞,固有名詞,人名,姓,*,*,野村,ノムラ,ノムラ\n",
      "野村\t名詞,固有名詞,人名,姓,*,*,野村,ノムラ,ノムラ\n",
      "加藤\t名詞,固有名詞,人名,姓,*,*,加藤,カトウ,カトー\n",
      "加藤\t名詞,固有名詞,人名,姓,*,*,加藤,カトウ,カトー\n",
      "野村\t名詞,固有名詞,人名,姓,*,*,野村,ノムラ,ノムラ\n",
      "野村\t名詞,固有名詞,人名,姓,*,*,野村,ノムラ,ノムラ\n",
      "黒田\t名詞,固有名詞,人名,姓,*,*,黒田,クロダ,クロダ\n",
      "黒田\t名詞,固有名詞,人名,姓,*,*,黒田,クロダ,クロダ\n",
      "黒田\t名詞,固有名詞,人名,姓,*,*,黒田,クロダ,クロダ\n",
      "黒田\t名詞,固有名詞,人名,姓,*,*,黒田,クロダ,クロダ\n",
      "黒田\t名詞,固有名詞,人名,姓,*,*,黒田,クロダ,クロダ\n",
      "モルガン\t名詞,固有名詞,人名,姓,*,*,モルガン,モルガン,モルガン\n",
      "モルガン\t名詞,固有名詞,人名,姓,*,*,モルガン,モルガン,モルガン\n",
      "氏\t名詞,接尾,人名,*,*,*,氏,シ,シ\n",
      "モルガン\t名詞,固有名詞,人名,姓,*,*,モルガン,モルガン,モルガン\n",
      "モルガン\t名詞,固有名詞,人名,姓,*,*,モルガン,モルガン,モルガン\n",
      "モルガン\t名詞,固有名詞,人名,姓,*,*,モルガン,モルガン,モルガン\n",
      "氏\t名詞,接尾,人名,*,*,*,氏,シ,シ\n",
      "トール\t名詞,固有名詞,人名,姓,*,*,トール,トール,トール\n",
      "トール\t名詞,固有名詞,人名,姓,*,*,トール,トール,トール\n",
      "住友\t名詞,固有名詞,人名,姓,*,*,住友,スミトモ,スミトモ\n",
      "住友\t名詞,固有名詞,人名,姓,*,*,住友,スミトモ,スミトモ\n",
      "野村\t名詞,固有名詞,人名,姓,*,*,野村,ノムラ,ノムラ\n",
      "李\t名詞,固有名詞,人名,姓,*,*,李,リ,リ\n",
      "李\t名詞,固有名詞,人名,姓,*,*,李,リ,リ\n",
      "モルガン\t名詞,固有名詞,人名,姓,*,*,モルガン,モルガン,モルガン\n",
      "甘利\t名詞,固有名詞,人名,姓,*,*,甘利,アマリ,アマリ\n",
      "氏\t名詞,接尾,人名,*,*,*,氏,シ,シ\n",
      "甘利\t名詞,固有名詞,人名,姓,*,*,甘利,アマリ,アマリ\n",
      "氏\t名詞,接尾,人名,*,*,*,氏,シ,シ\n",
      "甘利\t名詞,固有名詞,人名,姓,*,*,甘利,アマリ,アマリ\n",
      "氏\t名詞,接尾,人名,*,*,*,氏,シ,シ\n",
      "桐谷\t名詞,固有名詞,人名,姓,*,*,桐谷,キリタニ,キリタニ\n",
      "氏\t名詞,接尾,人名,*,*,*,氏,シ,シ\n",
      "アイン\t名詞,固有名詞,人名,姓,*,*,アイン,アイン,アイン\n",
      "氏\t名詞,接尾,人名,*,*,*,氏,シ,シ\n",
      "アイン\t名詞,固有名詞,人名,姓,*,*,アイン,アイン,アイン\n",
      "氏\t名詞,接尾,人名,*,*,*,氏,シ,シ\n",
      "アイン\t名詞,固有名詞,人名,姓,*,*,アイン,アイン,アイン\n",
      "氏\t名詞,接尾,人名,*,*,*,氏,シ,シ\n",
      "アイン\t名詞,固有名詞,人名,姓,*,*,アイン,アイン,アイン\n",
      "氏\t名詞,接尾,人名,*,*,*,氏,シ,シ\n",
      "アイン\t名詞,固有名詞,人名,姓,*,*,アイン,アイン,アイン\n",
      "氏\t名詞,接尾,人名,*,*,*,氏,シ,シ\n",
      "アイン\t名詞,固有名詞,人名,姓,*,*,アイン,アイン,アイン\n",
      "氏\t名詞,接尾,人名,*,*,*,氏,シ,シ\n",
      "アイン\t名詞,固有名詞,人名,姓,*,*,アイン,アイン,アイン\n",
      "氏\t名詞,接尾,人名,*,*,*,氏,シ,シ\n",
      "アイン\t名詞,固有名詞,人名,姓,*,*,アイン,アイン,アイン\n",
      "氏\t名詞,接尾,人名,*,*,*,氏,シ,シ\n",
      "トール\t名詞,固有名詞,人名,姓,*,*,トール,トール,トール\n",
      "トール\t名詞,固有名詞,人名,姓,*,*,トール,トール,トール\n",
      "氏\t名詞,接尾,人名,*,*,*,氏,シ,シ\n",
      "氏\t名詞,接尾,人名,*,*,*,氏,シ,シ\n",
      "氏\t名詞,接尾,人名,*,*,*,氏,シ,シ\n",
      "氏\t名詞,接尾,人名,*,*,*,氏,シ,シ\n",
      "氏\t名詞,接尾,人名,*,*,*,氏,シ,シ\n",
      "トム\t名詞,固有名詞,人名,名,*,*,トム,トム,トム\n",
      "トム\t名詞,固有名詞,人名,名,*,*,トム,トム,トム\n",
      "トール\t名詞,固有名詞,人名,姓,*,*,トール,トール,トール\n",
      "トール\t名詞,固有名詞,人名,姓,*,*,トール,トール,トール\n",
      "パウエル\t名詞,固有名詞,人名,姓,*,*,パウエル,パウエル,パウエル\n",
      "パウエル\t名詞,固有名詞,人名,姓,*,*,パウエル,パウエル,パウエル\n",
      "氏\t名詞,接尾,人名,*,*,*,氏,シ,シ\n",
      "住友\t名詞,固有名詞,人名,姓,*,*,住友,スミトモ,スミトモ\n",
      "住友\t名詞,固有名詞,人名,姓,*,*,住友,スミトモ,スミトモ\n",
      "住友\t名詞,固有名詞,人名,姓,*,*,住友,スミトモ,スミトモ\n",
      "住友\t名詞,固有名詞,人名,姓,*,*,住友,スミトモ,スミトモ\n",
      "住友\t名詞,固有名詞,人名,姓,*,*,住友,スミトモ,スミトモ\n",
      "住友\t名詞,固有名詞,人名,姓,*,*,住友,スミトモ,スミトモ\n",
      "住友\t名詞,固有名詞,人名,姓,*,*,住友,スミトモ,スミトモ\n",
      "住友\t名詞,固有名詞,人名,姓,*,*,住友,スミトモ,スミトモ\n",
      "アイン\t名詞,固有名詞,人名,姓,*,*,アイン,アイン,アイン\n",
      "氏\t名詞,接尾,人名,*,*,*,氏,シ,シ\n",
      "住友\t名詞,固有名詞,人名,姓,*,*,住友,スミトモ,スミトモ\n",
      "住友\t名詞,固有名詞,人名,姓,*,*,住友,スミトモ,スミトモ\n",
      "住友\t名詞,固有名詞,人名,姓,*,*,住友,スミトモ,スミトモ\n",
      "住友\t名詞,固有名詞,人名,姓,*,*,住友,スミトモ,スミトモ\n",
      "氏\t名詞,接尾,人名,*,*,*,氏,シ,シ\n",
      "氏\t名詞,接尾,人名,*,*,*,氏,シ,シ\n",
      "上田\t名詞,固有名詞,人名,姓,*,*,上田,ウエダ,ウエダ\n",
      "モルガン\t名詞,固有名詞,人名,姓,*,*,モルガン,モルガン,モルガン\n",
      "上田\t名詞,固有名詞,人名,姓,*,*,上田,ウエダ,ウエダ\n",
      "住友\t名詞,固有名詞,人名,姓,*,*,住友,スミトモ,スミトモ\n",
      "住友\t名詞,固有名詞,人名,姓,*,*,住友,スミトモ,スミトモ\n",
      "シラー\t名詞,固有名詞,人名,一般,*,*,シラー,シラー,シラー\n",
      "シラー\t名詞,固有名詞,人名,一般,*,*,シラー,シラー,シラー\n",
      "氏\t名詞,接尾,人名,*,*,*,氏,シ,シ\n",
      "氏\t名詞,接尾,人名,*,*,*,氏,シ,シ\n",
      "住友\t名詞,固有名詞,人名,姓,*,*,住友,スミトモ,スミトモ\n",
      "住友\t名詞,固有名詞,人名,姓,*,*,住友,スミトモ,スミトモ\n",
      "住友\t名詞,固有名詞,人名,姓,*,*,住友,スミトモ,スミトモ\n",
      "住友\t名詞,固有名詞,人名,姓,*,*,住友,スミトモ,スミトモ\n",
      "シラー\t名詞,固有名詞,人名,一般,*,*,シラー,シラー,シラー\n",
      "上田\t名詞,固有名詞,人名,姓,*,*,上田,ウエダ,ウエダ\n",
      "上田\t名詞,固有名詞,人名,姓,*,*,上田,ウエダ,ウエダ\n",
      "モルガン\t名詞,固有名詞,人名,姓,*,*,モルガン,モルガン,モルガン\n",
      "秋野\t名詞,固有名詞,人名,姓,*,*,秋野,アキノ,アキノ\n",
      "氏\t名詞,接尾,人名,*,*,*,氏,シ,シ\n",
      "秋野\t名詞,固有名詞,人名,姓,*,*,秋野,アキノ,アキノ\n",
      "氏\t名詞,接尾,人名,*,*,*,氏,シ,シ\n",
      "シラー\t名詞,固有名詞,人名,一般,*,*,シラー,シラー,シラー\n",
      "シラー\t名詞,固有名詞,人名,一般,*,*,シラー,シラー,シラー\n",
      "モルガン\t名詞,固有名詞,人名,姓,*,*,モルガン,モルガン,モルガン\n"
     ]
    }
   ],
   "source": [
    "t = Tokenizer()\n",
    "for i in range(0,hoge.shape[0]):\n",
    "    tokens = t.tokenize(hoge['Headline'][i])\n",
    "    for token in tokens:\n",
    "        #print(token)\n",
    "        #if (token.part_of_speech.split(',')[0]=='名詞'):\n",
    "        if (token.part_of_speech.split(',')[2]=='人名'):\n",
    "            print(token)\n",
    "            #and token.part_of_speech.split(',')[1]=='固有名詞'):"
   ]
  },
  {
   "cell_type": "code",
   "execution_count": 92,
   "metadata": {},
   "outputs": [
    {
     "data": {
      "text/plain": [
       "list"
      ]
     },
     "execution_count": 92,
     "metadata": {},
     "output_type": "execute_result"
    }
   ],
   "source": [
    "type(hoge.stack().tolist())"
   ]
  },
  {
   "cell_type": "code",
   "execution_count": null,
   "metadata": {
    "collapsed": true
   },
   "outputs": [],
   "source": []
  },
  {
   "cell_type": "code",
   "execution_count": null,
   "metadata": {
    "collapsed": true
   },
   "outputs": [],
   "source": []
  },
  {
   "cell_type": "code",
   "execution_count": null,
   "metadata": {
    "collapsed": true
   },
   "outputs": [],
   "source": []
  },
  {
   "cell_type": "code",
   "execution_count": 104,
   "metadata": {},
   "outputs": [
    {
     "name": "stdout",
     "output_type": "stream",
     "text": [
      "148.65454196929932\n"
     ]
    }
   ],
   "source": [
    "from sklearn.feature_extraction.text import CountVectorizer\n",
    "# just for measuring time\n",
    "import time\n",
    "start = time.time()\n",
    "\n",
    "# need to recieve unicode text, this is callable for TfidfVectorizer\n",
    "# need to recieve unicode text\n",
    "def myTokenizer(text):\n",
    "    #TARGET_CATEGORY = [\"名詞\", \"動詞\",  \"形容詞\", \"副詞\", \"連体詞\", \"助動詞\"]\n",
    "    #wordsIn=[]\n",
    "    #t = Tokenizer()\n",
    "    #tokens = t.tokenize(text)\n",
    "    #for token in tokens:\n",
    "    #    tokenCategory = token.part_of_speech.split(',')[0]\n",
    "    #    tokenBasic = token.base_form\n",
    "    #    if  (tokenCategory=='名詞' and token.part_of_speech.split(',')[1]=='固有名詞'):\n",
    "    #        wordsIn.append(token.surface)\n",
    "    #    elif tokenCategory in TARGET_CATEGORY:\n",
    "    #        if tokenBasic != '*':                               #if basic form can be defined\n",
    "    #            wordsIn.append(tokenBasic)\n",
    "    wordsIn=[]\n",
    "    t = Tokenizer()\n",
    "    tokens = t.tokenize(text)\n",
    "    for token in tokens:\n",
    "        #print(token)\n",
    "        #if (token.part_of_speech.split(',')[0]=='名詞'):\n",
    "        if (token.part_of_speech.split(',')[2]=='人名'):\n",
    "            wordsIn.append(token.surface)\n",
    "    return wordsIn\n",
    "\n",
    "\n",
    "#vectorizer = CountVectorizer(ngram_range=(1, 2),tokenizer=myTokenizer)     \n",
    "#tfidf_weighted_matrix = vectorizer.fit_transform(tweetsProcessed)\n",
    "vectorizer = CountVectorizer(ngram_range=(1, 2),tokenizer=myTokenizer,min_df=2).fit(hoge.stack().tolist()) # stop_words = ''\n",
    "bow = vectorizer.transform(hoge.stack().tolist())\n",
    "\n",
    "# for time\n",
    "elapsed_time = time.time() - start\n",
    "print(elapsed_time)\n",
    "print(\"bag_of_words with df as 2: {}\\n\".format(repr(bow)))"
   ]
  },
  {
   "cell_type": "code",
   "execution_count": 119,
   "metadata": {},
   "outputs": [
    {
     "name": "stdout",
     "output_type": "stream",
     "text": [
      "Features with highest tfidf: \n",
      "['アイン' '秋野 氏' '秋野' '甘利 氏' '甘利' '氏' '李' '木内' '憲一郎 氏' '憲一郎' '小林' '安倍' '堀場 小林'\n",
      " '堀場' '吉田 憲一郎' '吉田' '加藤' '住友 住友' '上田' '三村' 'モルガン 氏' 'モルガン' 'パウエル' 'トール'\n",
      " 'トム' 'シラー' 'アイン 氏' '野村' '黒田' '住友']\n",
      "\n"
     ]
    }
   ],
   "source": [
    "import numpy as np\n",
    "max_value = bow.max(axis=0).toarray().ravel()\n",
    "sorted_by_num = max_value.argsort()\n",
    "feature_names = np.array(vectorizer.get_feature_names())\n",
    "print(\"Features with highest tfidf: \\n{}\\n\".format(\n",
    "      feature_names[sorted_by_num[-30:]]))"
   ]
  },
  {
   "cell_type": "code",
   "execution_count": 111,
   "metadata": {},
   "outputs": [
    {
     "name": "stdout",
     "output_type": "stream",
     "text": [
      "First 30 features:\n",
      "{'トール': 4, 'モルガン': 6, '小林': 18, '黒田': 29, '上田': 9, '野村': 28, '堀場': 15, '堀場 小林': 16, '安倍': 17, '三村': 8, '木内': 21, '吉田': 13, '憲一郎': 19, '氏': 23, '吉田 憲一郎': 14, '憲一郎 氏': 20, '加藤': 12, 'モルガン 氏': 7, '住友': 10, '李': 22, '甘利': 24, '甘利 氏': 25, 'アイン': 0, 'アイン 氏': 1, 'トム': 3, 'パウエル': 5, '住友 住友': 11, 'シラー': 2, '秋野': 26, '秋野 氏': 27}\n"
     ]
    }
   ],
   "source": [
    "print(\"First 30 features:\\n{}\".format(vectorizer.vocabulary_))?"
   ]
  },
  {
   "cell_type": "code",
   "execution_count": null,
   "metadata": {
    "collapsed": true
   },
   "outputs": [],
   "source": []
  },
  {
   "cell_type": "code",
   "execution_count": 114,
   "metadata": {
    "scrolled": true
   },
   "outputs": [
    {
     "name": "stdout",
     "output_type": "stream",
     "text": [
      "[('モルガン', 47), ('黒田', 32), ('氏', 29), ('上田', 21), ('住友', 20), ('トール', 18), ('アイン', 9), ('アイン 氏', 9), ('住友 住友', 9), ('野村', 7), ('堀場', 7), ('シラー', 5), ('小林', 4), ('安倍', 4), ('木内', 4), ('堀場 小林', 3), ('三村', 3), ('甘利', 3), ('甘利 氏', 3), ('吉田', 2), ('憲一郎', 2), ('吉田 憲一郎', 2), ('憲一郎 氏', 2), ('加藤', 2), ('モルガン 氏', 2), ('李', 2), ('トム', 2), ('パウエル', 2), ('秋野', 2), ('秋野 氏', 2)]\n"
     ]
    }
   ],
   "source": [
    "freqs = [(word, bow.getcol(idx).sum()) for word, idx in vectorizer.vocabulary_.items()]\n",
    "#sort from largest to smallest\n",
    "print (sorted (freqs, key = lambda x: -x[1]))"
   ]
  },
  {
   "cell_type": "code",
   "execution_count": null,
   "metadata": {
    "collapsed": true
   },
   "outputs": [],
   "source": []
  },
  {
   "cell_type": "code",
   "execution_count": null,
   "metadata": {
    "collapsed": true
   },
   "outputs": [],
   "source": []
  },
  {
   "cell_type": "code",
   "execution_count": null,
   "metadata": {
    "collapsed": true
   },
   "outputs": [],
   "source": []
  },
  {
   "cell_type": "code",
   "execution_count": null,
   "metadata": {
    "collapsed": true
   },
   "outputs": [],
   "source": []
  },
  {
   "cell_type": "code",
   "execution_count": null,
   "metadata": {
    "collapsed": true
   },
   "outputs": [],
   "source": []
  },
  {
   "cell_type": "code",
   "execution_count": 32,
   "metadata": {
    "collapsed": true
   },
   "outputs": [],
   "source": [
    "# https://labs.goo.ne.jp/api/jp/named-entity-extraction/\n",
    "# うまくいかないようであれば"
   ]
  },
  {
   "cell_type": "code",
   "execution_count": null,
   "metadata": {
    "collapsed": true
   },
   "outputs": [],
   "source": []
  },
  {
   "cell_type": "code",
   "execution_count": null,
   "metadata": {
    "collapsed": true
   },
   "outputs": [],
   "source": []
  },
  {
   "cell_type": "code",
   "execution_count": null,
   "metadata": {
    "collapsed": true
   },
   "outputs": [],
   "source": []
  },
  {
   "cell_type": "code",
   "execution_count": null,
   "metadata": {
    "collapsed": true
   },
   "outputs": [],
   "source": []
  },
  {
   "cell_type": "code",
   "execution_count": null,
   "metadata": {
    "collapsed": true
   },
   "outputs": [],
   "source": []
  },
  {
   "cell_type": "code",
   "execution_count": null,
   "metadata": {
    "collapsed": true
   },
   "outputs": [],
   "source": [
    "# 図示にあたって"
   ]
  },
  {
   "cell_type": "code",
   "execution_count": 38,
   "metadata": {
    "collapsed": true,
    "scrolled": true
   },
   "outputs": [],
   "source": [
    "start = datetime.datetime.strptime('20140101', '%Y%m%d')"
   ]
  },
  {
   "cell_type": "code",
   "execution_count": 41,
   "metadata": {
    "scrolled": true
   },
   "outputs": [
    {
     "data": {
      "text/plain": [
       "list"
      ]
     },
     "execution_count": 41,
     "metadata": {},
     "output_type": "execute_result"
    }
   ],
   "source": [
    "a = makeDateList(start, '7')\n",
    "type(a)"
   ]
  },
  {
   "cell_type": "code",
   "execution_count": 46,
   "metadata": {
    "collapsed": true
   },
   "outputs": [],
   "source": [
    "a = datetime.datetime.strptime('20140201', '%Y%m%d')\n",
    "b = datetime.datetime.strptime('20140301', '%Y%m%d')"
   ]
  },
  {
   "cell_type": "code",
   "execution_count": 49,
   "metadata": {},
   "outputs": [
    {
     "data": {
      "text/plain": [
       "True"
      ]
     },
     "execution_count": 49,
     "metadata": {},
     "output_type": "execute_result"
    }
   ],
   "source": [
    "a<b"
   ]
  },
  {
   "cell_type": "code",
   "execution_count": null,
   "metadata": {
    "collapsed": true
   },
   "outputs": [],
   "source": [
    "# date:headlineのdictを受け取る\n",
    "# flagは、月=(month)か年(=year)か\n",
    "def shapeData(data, flag):\n",
    "    res = pd.DataFrame()\n",
    "    if (flag=='month'):\n",
    "        \n",
    "    elif(flag=='year'):\n",
    "        \n",
    "    else:\n",
    "        raise Exception\n",
    "    \n",
    "    return res"
   ]
  }
 ],
 "metadata": {
  "kernelspec": {
   "display_name": "Python 3",
   "language": "python",
   "name": "python3"
  },
  "language_info": {
   "codemirror_mode": {
    "name": "ipython",
    "version": 3
   },
   "file_extension": ".py",
   "mimetype": "text/x-python",
   "name": "python",
   "nbconvert_exporter": "python",
   "pygments_lexer": "ipython3",
   "version": "3.6.1"
  }
 },
 "nbformat": 4,
 "nbformat_minor": 2
}
